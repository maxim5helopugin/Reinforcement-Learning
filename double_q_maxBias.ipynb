{
 "cells": [
  {
   "cell_type": "code",
   "execution_count": 9,
   "metadata": {},
   "outputs": [
    {
     "name": "stdout",
     "output_type": "stream",
     "text": [
      "2\n"
     ]
    }
   ],
   "source": [
    "import gym\n",
    "import gym_envs\n",
    "import numpy as np\n",
    "\n",
    "%matplotlib inline\n",
    "import matplotlib.pyplot as plt\n",
    "\n",
    "env = gym.make(\"MaxBias-v0\")\n",
    "env.render()\n",
    "action_size = env.action_space\n",
    "state_size = env.observation_space.n\n",
    "\n",
    "epsilon = 0.5\n",
    "gamma = 1\n",
    "epoch = 2000\n",
    "alpha = 0.1\n",
    "\n",
    "q_table = []\n",
    "\n",
    "for state in range(state_size):\n",
    "    q_table_row = []\n",
    "    for action in range(action_size[state]):\n",
    "        q_table_row.append(-1)\n",
    "    q_table.append(q_table_row)"
   ]
  },
  {
   "cell_type": "code",
   "execution_count": 10,
   "metadata": {},
   "outputs": [],
   "source": [
    "left_moves = []\n",
    "\n",
    "for episode in range(epoch):\n",
    "    state = env.reset()\n",
    "    tot_left_moves = 0\n",
    "    for step in range(1,100):\n",
    "        action = 0\n",
    "        if np.random.uniform() < epsilon:\n",
    "            action = np.random.randint(len(q_table[state]))\n",
    "        else:\n",
    "            action = np.argmax(q_table[state])\n",
    "        next_state, reward, done, _ = env.step(action)\n",
    "        q_table[state][action] = q_table[state][action] + alpha*(reward + gamma*np.max(q_table[next_state]) - q_table[state][action])\n",
    "        \n",
    "        if action != 0:\n",
    "            tot_left_moves+=1\n",
    "        if done:\n",
    "            left_moves.append(tot_left_moves/step)\n",
    "            break\n",
    "        state = next_state\n",
    "        epsilon*=0.9\n",
    "        if epsilon < 0.1:\n",
    "            epsilon = 0.1\n",
    "        "
   ]
  },
  {
   "cell_type": "code",
   "execution_count": 11,
   "metadata": {},
   "outputs": [
    {
     "name": "stdout",
     "output_type": "stream",
     "text": [
      "[[-1], [-0.8102931386454303, -0.6499130137726569, -1.1652601238991451, -1.163387823584824, -1.0197268189723505, -1, -1.0508769197279568, 0.808762190005937, -0.9918192965316621, -0.9430783431083051, -1.0305331490080163, -1, -0.9124024094503627, -1.6296328535522036, -0.9408054731413409, -0.9164255612142128, -1.0660776174145643, -0.9992503879433416, -0.9237045311988739, -0.8962474513185099, -0.9922800035706663, -1.1350059059184312, -0.8968968778436228, -1.2915617198081328, -0.8740469162414671, -0.6503286635308344, -1, -1.1000496887551348, -1, -0.9762389240567076, -1.0993741545734261, -0.9126299610060724, -0.9103051086911704, -0.7550978902555594, -1.0652837962696484, -1.1733454663855256, -1.1766525926686011, -1.214448675922633, -1.1494035288608577, -1.011940558515245, -1.053395667702479, -1.0699267791156735, -0.7181694279067646, -1.3181347466270872, -0.9260673584367445, -1.105764149654093, -0.8269495527555, -0.9132956212567789, -1.1991736216054827, -1.0499695313558937, -1, -0.9912490768920283, -0.9752659812800432, -1, -1.8035702924447077, -0.9646759616651563, -1.1110186848056853, -0.9896222204996846, -1.0249616524702405, -1.016407637814106, -0.918714027349485, -1.1436230080204872, -1.1478154021279088, -1.0292736065194297, -1.291711524781623, -0.2999049175690156, -1, -1.2205382294929465, -0.966903475969511, -0.9971354279346681, -0.874944232643292, -1.300183257650881, -0.3297794635774961, -1.0372461295632218, -1.1950779562485967, -0.9502912079463532, -0.931479475347455, -1, -1.320534869536735, -0.935170567219392, -1.7713217464394855, -0.8370025080115165, -0.9259646115197453, -1.1433352304992528, -1.123454940937342, -1.0886617977600495, -1.0071080968545831, -1.0231785893052887, -0.8367773894487335, -0.8253722357032065, -0.6174138304407962, -0.6447810765111742, -1.139169019734837, -1.0821460359236306, -1, -0.834983283154038, -0.9344589487388606, -1, -1.034963955803525, -1], [-1.0, 0.8067769205276805], [-1]]\n"
     ]
    }
   ],
   "source": [
    "print(q_table)"
   ]
  },
  {
   "cell_type": "code",
   "execution_count": 12,
   "metadata": {},
   "outputs": [
    {
     "data": {
      "text/plain": [
       "Text(0,0.5,'Reward')"
      ]
     },
     "execution_count": 12,
     "metadata": {},
     "output_type": "execute_result"
    },
    {
     "data": {
      "image/png": "[encoded data removed]",
      "text/plain": [
       "<Figure size 432x288 with 1 Axes>"
      ]
     },
     "metadata": {
      "needs_background": "light"
     },
     "output_type": "display_data"
    }
   ],
   "source": [
    "plt.plot(left_moves, label='left moves')\n",
    "plt.legend(bbox_to_anchor=(1.05, 1), loc=2, borderaxespad=0.)\n",
    "\n",
    "plt.xlabel('Episode')\n",
    "plt.ylabel('Reward')"
   ]
  },
  {
   "cell_type": "code",
   "execution_count": 5,
   "metadata": {},
   "outputs": [
    {
     "name": "stdout",
     "output_type": "stream",
     "text": [
      "['_', '_', '_', '_', '_', '_', '_', '_', '_', '_']\n",
      "['_', '_', '_', '_', '_', '_', '_', '_', '_', '_']\n",
      "['O', '_', '_', '_', '_', '_', '_', '_', '_', '_']\n",
      "['_', 'X', 'X', 'X', 'X', 'X', 'X', 'X', 'X', 'G']\n",
      "\n",
      "['_', '_', '_', '_', '_', '_', '_', '_', '_', '_']\n",
      "['_', '_', '_', '_', '_', '_', '_', '_', '_', '_']\n",
      "['_', 'O', '_', '_', '_', '_', '_', '_', '_', '_']\n",
      "['_', 'X', 'X', 'X', 'X', 'X', 'X', 'X', 'X', 'G']\n",
      "\n",
      "['_', '_', '_', '_', '_', '_', '_', '_', '_', '_']\n",
      "['_', '_', '_', '_', '_', '_', '_', '_', '_', '_']\n",
      "['_', '_', 'O', '_', '_', '_', '_', '_', '_', '_']\n",
      "['_', 'X', 'X', 'X', 'X', 'X', 'X', 'X', 'X', 'G']\n",
      "\n",
      "['_', '_', '_', '_', '_', '_', '_', '_', '_', '_']\n",
      "['_', '_', '_', '_', '_', '_', '_', '_', '_', '_']\n",
      "['_', '_', '_', 'O', '_', '_', '_', '_', '_', '_']\n",
      "['_', 'X', 'X', 'X', 'X', 'X', 'X', 'X', 'X', 'G']\n",
      "\n",
      "['_', '_', '_', '_', '_', '_', '_', '_', '_', '_']\n",
      "['_', '_', '_', '_', '_', '_', '_', '_', '_', '_']\n",
      "['_', '_', '_', '_', 'O', '_', '_', '_', '_', '_']\n",
      "['_', 'X', 'X', 'X', 'X', 'X', 'X', 'X', 'X', 'G']\n",
      "\n",
      "['_', '_', '_', '_', '_', '_', '_', '_', '_', '_']\n",
      "['_', '_', '_', '_', '_', '_', '_', '_', '_', '_']\n",
      "['_', '_', '_', '_', '_', 'O', '_', '_', '_', '_']\n",
      "['_', 'X', 'X', 'X', 'X', 'X', 'X', 'X', 'X', 'G']\n",
      "\n",
      "['_', '_', '_', '_', '_', '_', '_', '_', '_', '_']\n",
      "['_', '_', '_', '_', '_', '_', '_', '_', '_', '_']\n",
      "['_', '_', '_', '_', '_', '_', 'O', '_', '_', '_']\n",
      "['_', 'X', 'X', 'X', 'X', 'X', 'X', 'X', 'X', 'G']\n",
      "\n",
      "['_', '_', '_', '_', '_', '_', '_', '_', '_', '_']\n",
      "['_', '_', '_', '_', '_', '_', '_', '_', '_', '_']\n",
      "['_', '_', '_', '_', '_', '_', '_', 'O', '_', '_']\n",
      "['_', 'X', 'X', 'X', 'X', 'X', 'X', 'X', 'X', 'G']\n",
      "\n",
      "['_', '_', '_', '_', '_', '_', '_', '_', '_', '_']\n",
      "['_', '_', '_', '_', '_', '_', '_', '_', '_', '_']\n",
      "['_', '_', '_', '_', '_', '_', '_', '_', 'O', '_']\n",
      "['_', 'X', 'X', 'X', 'X', 'X', 'X', 'X', 'X', 'G']\n",
      "\n",
      "['_', '_', '_', '_', '_', '_', '_', '_', '_', '_']\n",
      "['_', '_', '_', '_', '_', '_', '_', '_', '_', '_']\n",
      "['_', '_', '_', '_', '_', '_', '_', '_', '_', 'O']\n",
      "['_', 'X', 'X', 'X', 'X', 'X', 'X', 'X', 'X', 'G']\n",
      "\n"
     ]
    }
   ],
   "source": [
    "for _ in np.arange(1):\n",
    "    state = env.reset()\n",
    "    action = 0\n",
    "    \n",
    "    for step in np.arange(50):\n",
    "        action = np.argmax(table_q_s[state,:])\n",
    "        new_state, reward, done, _ = env.step(action)\n",
    "        \n",
    "        if done or step==49:\n",
    "            break\n",
    "        else:\n",
    "            env.render()\n",
    "            state = new_state\n",
    "            "
   ]
  }
 ],
 "metadata": {
  "kernelspec": {
   "display_name": "Python 3",
   "language": "python",
   "name": "python3"
  },
  "language_info": {
   "codemirror_mode": {
    "name": "ipython",
    "version": 3
   },
   "file_extension": ".py",
   "mimetype": "text/x-python",
   "name": "python",
   "nbconvert_exporter": "python",
   "pygments_lexer": "ipython3",
   "version": "3.6.6"
  }
 },
 "nbformat": 4,
 "nbformat_minor": 2
}
