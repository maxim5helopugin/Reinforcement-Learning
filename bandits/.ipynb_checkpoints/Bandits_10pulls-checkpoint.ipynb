{
 "cells": [
  {
   "cell_type": "markdown",
   "metadata": {},
   "source": [
    "# Comparison between epsilon greedy and custom 10-pull technique"
   ]
  },
  {
   "cell_type": "markdown",
   "metadata": {},
   "source": [
    "Import environment and necessary libraries.\n",
    "Initialize rewards, total rewards, epsilon and episodes"
   ]
  },
  {
   "cell_type": "code",
   "execution_count": 1,
   "metadata": {},
   "outputs": [],
   "source": [
    "import gym\n",
    "import gym_envs\n",
    "import numpy as np\n",
    "from math import e\n",
    "\n",
    "%matplotlib inline\n",
    "import matplotlib.pyplot as plt\n",
    "\n",
    "pulls_reward_list = []\n",
    "epsilon_reward_list = []\n",
    "deceps_reward_list = []\n",
    "\n",
    "pulls_action_list = np.zeros(10)\n",
    "epsilon_action_list = np.zeros(10)\n",
    "deceps_action_list = np.zeros(10)\n",
    "\n",
    "pulls_total_reward = 0\n",
    "epsilon_total_reward = 0\n",
    "deceps_total_reward = 0\n",
    "\n",
    "epsilon = 0.1\n",
    "epsilon_d = 0.9\n",
    "decay = 0.96\n",
    "max_episodes = 1000"
   ]
  },
  {
   "cell_type": "markdown",
   "metadata": {},
   "source": [
    "Epsilon greedy exploration:<br>\n",
    "\n",
    "with probability epsilon :\n",
    "$$a = random(0, b)$$\n",
    "with probability 1-epsilon:\n",
    "$$a = argmax_aQ(a)$$"
   ]
  },
  {
   "cell_type": "code",
   "execution_count": 2,
   "metadata": {},
   "outputs": [],
   "source": [
    "env = gym.make(\"NArmedBandit-v0\")\n",
    "env.reset()\n",
    "env.seed(4)\n",
    "\n",
    "table_q_e = np.zeros(env.action_space.n)\n",
    "table_n = np.ones(env.action_space.n)\n",
    "env.reset()\n",
    "\n",
    "for episode in np.arange(max_episodes):\n",
    "    if env.np_random.uniform() < epsilon:\n",
    "        action = env.np_random.randint(env.action_space.n)\n",
    "    else:\n",
    "        action = np.argmax(table_q_e)\n",
    "    _, reward, _, _ = env.step(action)\n",
    "    table_q_e[action] = table_q_e[action] + (reward-table_q_e[action])/table_n[action]\n",
    "    table_n[action]+=1\n",
    "    \n",
    "    epsilon_action_list[action]+=1\n",
    "    epsilon_total_reward +=reward\n",
    "    epsilon_reward_list.append(epsilon_total_reward/(episode+1))"
   ]
  },
  {
   "cell_type": "markdown",
   "metadata": {},
   "source": [
    "10-pull agent<br>\n",
    "Explore each action 10 times. Once exploration is done, choose greedily"
   ]
  },
  {
   "cell_type": "code",
   "execution_count": 3,
   "metadata": {},
   "outputs": [],
   "source": [
    "table_q_p = np.zeros(env.action_space.n)\n",
    "table_n = np.ones(env.action_space.n)\n",
    "env.reset()\n",
    "\n",
    "for episode in np.arange(max_episodes):\n",
    "    if episode<(env.action_space.n*10):\n",
    "        action = episode%env.action_space.n\n",
    "    else:\n",
    "        action = np.argmax(table_q_p)\n",
    "        \n",
    "    _, reward, _, _ = env.step(action)\n",
    "    table_q_p[action] = table_q_p[action] + (reward-table_q_p[action])/table_n[action]\n",
    "    table_n[action]+=1\n",
    "    \n",
    "    pulls_action_list[action]+=1\n",
    "    pulls_total_reward +=reward\n",
    "    pulls_reward_list.append(pulls_total_reward/(episode+1))"
   ]
  },
  {
   "cell_type": "markdown",
   "metadata": {},
   "source": [
    "Dacaying Epsilon-greedy<br>\n",
    "\n",
    "$$ \\epsilon = \\epsilon * 0.96^t $$\n"
   ]
  },
  {
   "cell_type": "code",
   "execution_count": 4,
   "metadata": {},
   "outputs": [],
   "source": [
    "table_q_de = np.zeros(env.action_space.n)\n",
    "table_n = np.ones(env.action_space.n)\n",
    "env.reset()\n",
    "\n",
    "for episode in np.arange(max_episodes):\n",
    "    if env.np_random.uniform() < epsilon_d:\n",
    "        action = env.np_random.randint(env.action_space.n)\n",
    "    else:\n",
    "        action = np.argmax(table_q_de)\n",
    "    _, reward, _, _ = env.step(action)\n",
    "    table_q_de[action] = table_q_de[action] + (reward-table_q_de[action])/table_n[action]\n",
    "    table_n[action]+=1\n",
    "    \n",
    "    deceps_action_list[action]+=1\n",
    "    deceps_total_reward +=reward\n",
    "    deceps_reward_list.append(deceps_total_reward/(episode+1))\n",
    "    epsilon_d*=decay"
   ]
  },
  {
   "cell_type": "markdown",
   "metadata": {},
   "source": [
    "Visualize the data"
   ]
  },
  {
   "cell_type": "code",
   "execution_count": 5,
   "metadata": {},
   "outputs": [
    {
     "data": {
      "text/plain": [
       "Text(0,0.5,'Reward')"
      ]
     },
     "execution_count": 5,
     "metadata": {},
     "output_type": "execute_result"
    },
    {
     "data": {
      "image/png": "[encoded data removed]",
      "text/plain": [
       "<Figure size 432x288 with 1 Axes>"
      ]
     },
     "metadata": {
      "needs_background": "light"
     },
     "output_type": "display_data"
    }
   ],
   "source": [
    "plt.plot(pulls_reward_list, label='10-pulls')\n",
    "plt.plot(epsilon_reward_list, label='epsilon')\n",
    "plt.plot(deceps_reward_list, label='decaying epsilon')\n",
    "plt.legend(bbox_to_anchor=(1.05, 1), loc=2, borderaxespad=0.)\n",
    "\n",
    "plt.xlabel('Episode')\n",
    "plt.ylabel('Reward')"
   ]
  },
  {
   "cell_type": "markdown",
   "metadata": {},
   "source": [
    "Total rewards"
   ]
  },
  {
   "cell_type": "code",
   "execution_count": 6,
   "metadata": {},
   "outputs": [
    {
     "name": "stdout",
     "output_type": "stream",
     "text": [
      "Total rewards\n",
      "10-pulls:  1716.324\n",
      "Epsilon:   1627.123\n",
      "Decaying:  1499.047\n",
      "Optimal:   1841.196\n"
     ]
    }
   ],
   "source": [
    "print(\"Total rewards\")\n",
    "print('{:10} {:.3f}'.format(\"10-pulls:\", pulls_total_reward))\n",
    "print('{:10} {:.3f}'.format(\"Epsilon:\", epsilon_total_reward))\n",
    "print('{:10} {:.3f}'.format(\"Decaying:\", deceps_total_reward))\n",
    "print('{:10} {:.3f}'.format(\"Optimal:\", max_episodes*env.getmax()))"
   ]
  },
  {
   "cell_type": "markdown",
   "metadata": {},
   "source": [
    "Approximated Q-values of each action"
   ]
  },
  {
   "cell_type": "code",
   "execution_count": 7,
   "metadata": {},
   "outputs": [
    {
     "name": "stdout",
     "output_type": "stream",
     "text": [
      "Q-value approximations:\n",
      "10-pulls:  [ 0.829  1.397  1.852 -0.871  0.569 -0.818  0.191  1.472  0.34  -0.026]\n",
      "Epsilon:   [ 0.89   0.747  1.864 -1.291  1.137 -0.461  0.238  1.836  0.185 -0.775]\n",
      "Decaying:  [ 0.852  0.347  0.062 -1.756  0.    -1.175 -0.448  1.539  0.295 -2.02 ]\n",
      "True vals: [ 0.808  0.797  1.841 -1.214  1.072 -0.787  0.606  1.543  0.379 -0.351 ]\n"
     ]
    }
   ],
   "source": [
    "print(\"Q-value approximations:\")\n",
    "np.set_printoptions(precision=3)\n",
    "print('{:10}'.format(\"10-pulls:\"),end=\" \")\n",
    "print(table_q_p)\n",
    "print('{:10}'.format(\"Epsilon:\"),end=\" \")\n",
    "print(table_q_e)\n",
    "print('{:10}'.format(\"Decaying:\"),end=\" \")\n",
    "print(table_q_de)\n",
    "env.render()"
   ]
  },
  {
   "cell_type": "markdown",
   "metadata": {},
   "source": [
    "Amount of action chosen"
   ]
  },
  {
   "cell_type": "code",
   "execution_count": 8,
   "metadata": {},
   "outputs": [
    {
     "name": "stdout",
     "output_type": "stream",
     "text": [
      "Actions chosen:\n",
      "10-pulls:  [ 10.  10. 910.  10.  10.  10.  10.  10.  10.  10.]\n",
      "Epsilon:   [ 20.   7. 770.  12. 132.  11.   3.  26.   6.  13.]\n",
      "Decaying:  [ 21.   2.   2.   1.   0.   2.   2. 966.   3.   1.]\n"
     ]
    }
   ],
   "source": [
    "print(\"Actions chosen:\")\n",
    "print('{:10}'.format(\"10-pulls:\"),end=\" \")\n",
    "print(pulls_action_list)\n",
    "print('{:10}'.format(\"Epsilon:\"),end=\" \")\n",
    "print(epsilon_action_list)\n",
    "print('{:10}'.format(\"Decaying:\"),end=\" \")\n",
    "print(deceps_action_list)"
   ]
  }
 ],
 "metadata": {
  "kernelspec": {
   "display_name": "Python 3",
   "language": "python",
   "name": "python3"
  },
  "language_info": {
   "codemirror_mode": {
    "name": "ipython",
    "version": 3
   },
   "file_extension": ".py",
   "mimetype": "text/x-python",
   "name": "python",
   "nbconvert_exporter": "python",
   "pygments_lexer": "ipython3",
   "version": "3.6.6"
  }
 },
 "nbformat": 4,
 "nbformat_minor": 2
}
