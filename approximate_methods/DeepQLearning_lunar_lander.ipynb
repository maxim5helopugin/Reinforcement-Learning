{
 "cells": [
  {
   "cell_type": "markdown",
   "metadata": {},
   "source": [
    "# Lunar Lander Deep-single-q and double-q networks"
   ]
  },
  {
   "cell_type": "code",
   "execution_count": 1,
   "metadata": {},
   "outputs": [
    {
     "name": "stderr",
     "output_type": "stream",
     "text": [
      "Using TensorFlow backend.\n"
     ]
    }
   ],
   "source": [
    "import gym\n",
    "import numpy as np\n",
    "import keras\n",
    "from keras.layers import Dense\n",
    "from keras.models import Sequential\n",
    "from keras.optimizers import Adam\n",
    "from keras.utils import to_categorical\n",
    "\n",
    "import matplotlib.pyplot as plt\n",
    "\n",
    "max_epochs = 300\n",
    "mem_size = 40000\n",
    "batch_size = 100\n",
    "blank = 20\n",
    "\n",
    "LAYER_1 = 128\n",
    "LAYER_2 = 64\n",
    "ALPHA = 0.002\n",
    "GAMMA = 0.99\n",
    "SAVE = max_epochs\n",
    "LOAD = max_epochs\n",
    "\n",
    "env = gym.make(\"LunarLander-v2\")"
   ]
  },
  {
   "cell_type": "markdown",
   "metadata": {},
   "source": [
    "Memory buffer to store experiences"
   ]
  },
  {
   "cell_type": "code",
   "execution_count": 2,
   "metadata": {},
   "outputs": [],
   "source": [
    "from collections import deque\n",
    "\n",
    "class Memory:\n",
    "    def __init__(self, size, samplesize):\n",
    "        self.samplesize = samplesize\n",
    "        self.memory = deque(maxlen=size)\n",
    "        self.size = size\n",
    "    \n",
    "    def remember(self, experience):\n",
    "        self.memory.append(experience)\n",
    "    \n",
    "    def sample(self):\n",
    "        indecies = np.random.choice(np.arange(self.size), size=self.samplesize, replace = False)\n",
    "        return [self.memory[index] for index in indecies]       \n",
    "        "
   ]
  },
  {
   "cell_type": "markdown",
   "metadata": {},
   "source": [
    "# Double q learning agent"
   ]
  },
  {
   "cell_type": "code",
   "execution_count": 3,
   "metadata": {},
   "outputs": [],
   "source": [
    "class Agent_q_double():\n",
    "    def __init__(self, state_dim, action_dim):\n",
    "        self.action_dim = action_dim\n",
    "        \n",
    "        self.model_a = Sequential()\n",
    "        self.model_a.add(Dense(LAYER_1, activation='relu', input_shape=(state_dim,)))\n",
    "        self.model_a.add(Dense(LAYER_2, activation = 'relu'))\n",
    "        self.model_a.add(Dense(action_dim, activation = 'linear'))\n",
    "        adam_a = keras.optimizers.Adam(lr=ALPHA)\n",
    "        self.model_a.compile(optimizer= adam_a, loss='mse', metrics=['accuracy'])\n",
    "\n",
    "        self.model_b = Sequential()\n",
    "        self.model_b.add(Dense(LAYER_1, activation='relu', input_shape=(state_dim,)))\n",
    "        self.model_b.add(Dense(LAYER_2, activation = 'relu'))\n",
    "        self.model_b.add(Dense(action_dim, activation = 'linear'))\n",
    "        adam_b = keras.optimizers.Adam(lr=ALPHA)\n",
    "        self.model_b.compile(optimizer= adam_b, loss='mse', metrics=['accuracy'])\n",
    "        \n",
    "    def predict(self, state):\n",
    "        return np.argmax((self.model_a.predict(np.array([state]))+self.model_b.predict(np.array([state]))))\n",
    "    \n",
    "    def train(self, experiences):\n",
    "        state, action, reward, next_state, done = zip(*experiences)\n",
    "        state = np.array(state)\n",
    "        action = np.array(action)\n",
    "        reward = np.array(reward)\n",
    "        next_state = np.array(next_state)\n",
    "        done = np.array(done)\n",
    "        \n",
    "        if np.random.uniform() < 0.5:\n",
    "            estimator = self.model_a\n",
    "            estimee = self.model_b\n",
    "        else:\n",
    "            estimator = self.model_b\n",
    "            estimee = self.model_a\n",
    "            \n",
    "        next_q_predicts = estimee.predict(next_state)\n",
    "        next_q_actual = estimator.predict(next_state)\n",
    "        \n",
    "        indecies = to_categorical(np.argmax(next_q_predicts, axis = 1),num_classes=self.action_dim)\n",
    "\n",
    "        next_q_actual = next_q_actual*indecies\n",
    "        target_q_vals = reward + GAMMA * np.max(next_q_actual, axis = 1) * done\n",
    "        \n",
    "        bad_target = estimee.predict(state)\n",
    "        \n",
    "        mask = to_categorical(action, num_classes=self.action_dim)\n",
    "        \n",
    "        good_target = mask*target_q_vals[:, np.newaxis] + (1-mask)*bad_target\n",
    "            \n",
    "        estimee.fit(state, good_target, batch_size=batch_size, verbose = 0)\n",
    "        \n",
    "    def save_model(self, epoch):\n",
    "        self.model_a.save_weights('models/double_weights_a' + str(epoch) + '.h5')\n",
    "        self.model_b.save_weights('models/double_weights_b' + str(epoch) + '.h5')\n",
    "        \n",
    "    def load_model(self, epoch):\n",
    "        self.model_a.load_weights('models/double_weights_a' + str(epoch) + '.h5')\n",
    "        self.model_b.load_weights('models/double_weights_b' + str(epoch)+ '.h5')"
   ]
  },
  {
   "cell_type": "markdown",
   "metadata": {},
   "source": [
    "# Simple q learning agent"
   ]
  },
  {
   "cell_type": "code",
   "execution_count": 4,
   "metadata": {},
   "outputs": [],
   "source": [
    "class Agent_q():\n",
    "    def __init__(self, state_dim, action_dim):\n",
    "       \n",
    "        self.action_dim = action_dim\n",
    "        self.model = Sequential()\n",
    "        self.model.add(Dense(LAYER_1, activation='relu', input_shape=(state_dim,)))\n",
    "        self.model.add(Dense(LAYER_2, activation = 'relu'))\n",
    "        self.model.add(Dense(action_dim, activation = 'linear'))\n",
    "        adam = keras.optimizers.Adam(lr=ALPHA)\n",
    "        self.model.compile(optimizer= adam, loss='mse', metrics=['accuracy'])\n",
    "        \n",
    "    def predict(self, state):\n",
    "        return np.argmax(self.model.predict(np.array([state])))\n",
    "    \n",
    "    def train(self, experiences):\n",
    "        state, action, reward, next_state, done = zip(*experiences)\n",
    "        state = np.array(state)\n",
    "        action = np.array(action)\n",
    "        reward = np.array(reward)\n",
    "        next_state = np.array(next_state)\n",
    "        done = np.array(done)\n",
    "        \n",
    "        next_q_vals = self.model.predict(next_state)\n",
    "        target_q_vals = reward + GAMMA * np.max(next_q_vals, axis=1) * done\n",
    "        \n",
    "        bad_target = self.model.predict(state)\n",
    "        mask = to_categorical(action, num_classes=self.action_dim)\n",
    "        good_target = mask*target_q_vals[:, np.newaxis] + (1-mask)*bad_target\n",
    "            \n",
    "        self.model.fit(state, good_target, batch_size=batch_size, verbose = 0)\n",
    "        \n",
    "    def save_model(self, epoch):\n",
    "        self.model.save_weights('models/simple_weights_m' + str(epoch) + '.h5')\n",
    "    \n",
    "    def load_model(self, epoch):\n",
    "        self.model.load_weights('models/simple_weights_m' + str(epoch) + '.h5')"
   ]
  },
  {
   "cell_type": "markdown",
   "metadata": {},
   "source": [
    "# A q learning agent with a fixed target"
   ]
  },
  {
   "cell_type": "code",
   "execution_count": 5,
   "metadata": {},
   "outputs": [],
   "source": [
    "class Agent_q_soft_target():\n",
    "    def __init__(self, state_dim, action_dim):\n",
    "       \n",
    "        self.action_dim = action_dim\n",
    "        self.model = Sequential()\n",
    "        self.model.add(Dense(LAYER_1, activation='relu', input_shape=(state_dim,)))\n",
    "        self.model.add(Dense(LAYER_2, activation = 'relu'))\n",
    "        self.model.add(Dense(action_dim, activation = 'linear'))\n",
    "        adam = keras.optimizers.Adam(lr=ALPHA)\n",
    "        self.model.compile(optimizer= adam, loss='mse', metrics=['accuracy'])\n",
    "        \n",
    "        self.target = Sequential()\n",
    "        self.target.add(Dense(LAYER_1, activation='relu', input_shape=(state_dim,)))\n",
    "        self.target.add(Dense(LAYER_2, activation = 'relu'))\n",
    "        self.target.add(Dense(action_dim, activation = 'linear'))\n",
    "        adam_t = keras.optimizers.Adam(lr=ALPHA)\n",
    "        self.target.compile(optimizer= adam_t, loss='mse', metrics=['accuracy'])\n",
    "        \n",
    "        self.target.set_weights(self.model.get_weights()) \n",
    "        \n",
    "    def soft_update(self):\n",
    "        self.target.set_weights((np.array(self.model.get_weights())*0.2)+(np.array(self.target.get_weights())*0.8))\n",
    "        \n",
    "    def predict(self, state):\n",
    "        return np.argmax(self.model.predict(np.array([state])))\n",
    "    \n",
    "    def train(self, experiences):\n",
    "        state, action, reward, next_state, done = zip(*experiences)\n",
    "        state = np.array(state)\n",
    "        action = np.array(action)\n",
    "        reward = np.array(reward)\n",
    "        next_state = np.array(next_state)\n",
    "        done = np.array(done)\n",
    "        \n",
    "        next_q_vals = self.target.predict(next_state)\n",
    "        target_q_vals = reward + GAMMA * np.max(next_q_vals, axis=1) * done\n",
    "        \n",
    "        bad_target = self.model.predict(state)\n",
    "        mask = to_categorical(action, num_classes=self.action_dim)\n",
    "        good_target = mask*target_q_vals[:, np.newaxis] + (1-mask)*bad_target\n",
    "            \n",
    "        self.model.fit(state, good_target, batch_size=batch_size, verbose = 0)\n",
    "        self.soft_update()\n",
    "    \n",
    "    def save_model(self, epoch):\n",
    "        self.model.save_weights('models/target_weights_m' + str(epoch) + '.h5')\n",
    "        self.target.save_weights('models/target_weights_t' + str(epoch)+ '.h5')\n",
    "    \n",
    "    def load_model(self, epoch):\n",
    "        self.model.load_weights('models/target_weights_m' + str(epoch) + '.h5')\n",
    "        self.target.load_weights('models/target_weights_t' + str(epoch)+ '.h5')"
   ]
  },
  {
   "cell_type": "markdown",
   "metadata": {},
   "source": [
    "A function to test an agent on the environment"
   ]
  },
  {
   "cell_type": "code",
   "execution_count": 6,
   "metadata": {},
   "outputs": [],
   "source": [
    "def playtest(env, agent):\n",
    "    rewards = 0\n",
    "    state = env.reset()\n",
    "    done = False\n",
    "    rewards = 0\n",
    "    while not done:\n",
    "        action = agent.predict(state)\n",
    "        env.render()\n",
    "        next_state, reward, done, _ = env.step(action)\n",
    "        rewards+=reward\n",
    "        if done:\n",
    "            env.close()\n",
    "            return rewards\n",
    "        else:\n",
    "            state = next_state"
   ]
  },
  {
   "cell_type": "code",
   "execution_count": 7,
   "metadata": {},
   "outputs": [],
   "source": [
    "def test_run(env, agent, update=False):\n",
    "    memory = Memory(mem_size,batch_size)\n",
    "    epsilon = 1\n",
    "    epsilon_decay = 0.9\n",
    "    rewards = 0\n",
    "    print(\"Prepopulating memory:\")\n",
    "    print(\"____________________\")\n",
    "    state = env.reset()\n",
    "    for step in range(mem_size):\n",
    "        if step%(mem_size/blank)==0:\n",
    "            print(\"|\", end='')\n",
    "        action = env.action_space.sample()\n",
    "        next_state, reward, done, _ = env.step(action)\n",
    "        memory.remember((state, action, reward, next_state, 1-done))\n",
    "        if done:\n",
    "            state = env.reset()\n",
    "        else:\n",
    "            state = next_state\n",
    "     \n",
    "    av_reward = []     \n",
    "    env.reset()\n",
    "    print(\"\\nTraining:\")\n",
    "    print(\"____________________\")\n",
    "    for epoch in range(1,max_epochs+1):\n",
    "        done = False\n",
    "        state = env.reset()\n",
    "        while not done:\n",
    "            if np.random.uniform() < epsilon:\n",
    "                action = env.action_space.sample()\n",
    "            else:\n",
    "                action = agent.predict(state)\n",
    "            next_state, reward, done, _ = env.step(action)\n",
    "            memory.remember((state, action, reward, next_state, 1-done))\n",
    "            agent.train(memory.sample())\n",
    "            if done:\n",
    "                if update:\n",
    "                    agent.soft_update()\n",
    "                if epsilon > 0.1:\n",
    "                    epsilon*=epsilon_decay\n",
    "                if epoch%(max_epochs/blank)==0:\n",
    "                    print(\"|\", end='')\n",
    "                    rewards+=playtest(env, agent)\n",
    "                    av_reward.append(rewards/(epoch/(max_epochs/blank)))\n",
    "                break\n",
    "            else:\n",
    "                state = next_state\n",
    "    return av_reward"
   ]
  },
  {
   "cell_type": "code",
   "execution_count": 8,
   "metadata": {},
   "outputs": [
    {
     "name": "stdout",
     "output_type": "stream",
     "text": [
      "Prepopulating memory:\n",
      "____________________\n",
      "||||||||||||||||||||\n",
      "Training:\n",
      "____________________\n",
      "||||||||||||||||||||\n",
      "____________________\n",
      "Prepopulating memory:\n",
      "____________________\n",
      "||||||||||||||||||||\n",
      "Training:\n",
      "____________________\n",
      "||||||||||||||||||||\n",
      "____________________\n",
      "Prepopulating memory:\n",
      "____________________\n",
      "||||||||||||||||||||\n",
      "Training:\n",
      "____________________\n",
      "||||||||||||||||||||"
     ]
    },
    {
     "data": {
      "text/plain": [
       "Text(0,0.5,'Average Reward')"
      ]
     },
     "execution_count": 8,
     "metadata": {},
     "output_type": "execute_result"
    },
    {
     "data": {
      "image/png": "[encoded data removed]",
      "text/plain": [
       "<Figure size 432x288 with 1 Axes>"
      ]
     },
     "metadata": {
      "needs_background": "light"
     },
     "output_type": "display_data"
    }
   ],
   "source": [
    "agent_t = Agent_q_soft_target(env.observation_space.shape[0], env.action_space.n)\n",
    "rewards_target = test_run(env, agent_t, update=True)\n",
    "agent_t.save_model(SAVE);\n",
    "\n",
    "print(\"\\n____________________\")\n",
    "\n",
    "agent_d = Agent_q(env.observation_space.shape[0], env.action_space.n)\n",
    "rewards_double = test_run(env, agent_d)\n",
    "agent_d.save_model(SAVE);\n",
    "\n",
    "print(\"\\n____________________\")\n",
    "\n",
    "agent_s = Agent_q_double(env.observation_space.shape[0], env.action_space.n)\n",
    "rewards_single = test_run(env, agent_s)\n",
    "agent_s.save_model(SAVE);\n",
    "\n",
    "plt.plot(rewards_double, label = \"double\")\n",
    "plt.plot(rewards_target, label = \"target\")\n",
    "plt.plot(rewards_single, label = \"single\")\n",
    "plt.legend(bbox_to_anchor=(1.05, 1), loc=2, borderaxespad=0.)\n",
    "\n",
    "plt.xlabel('Episode')\n",
    "plt.ylabel('Average Reward')"
   ]
  },
  {
   "cell_type": "code",
   "execution_count": 12,
   "metadata": {},
   "outputs": [
    {
     "name": "stdout",
     "output_type": "stream",
     "text": [
      "289.1431924332062\n"
     ]
    }
   ],
   "source": [
    "agent_t.load_model(LOAD)\n",
    "print(playtest(env,agent_t))"
   ]
  },
  {
   "cell_type": "code",
   "execution_count": null,
   "metadata": {},
   "outputs": [],
   "source": []
  }
 ],
 "metadata": {
  "kernelspec": {
   "display_name": "Python 3",
   "language": "python",
   "name": "python3"
  },
  "language_info": {
   "codemirror_mode": {
    "name": "ipython",
    "version": 3
   },
   "file_extension": ".py",
   "mimetype": "text/x-python",
   "name": "python",
   "nbconvert_exporter": "python",
   "pygments_lexer": "ipython3",
   "version": "3.6.6"
  }
 },
 "nbformat": 4,
 "nbformat_minor": 2
}
