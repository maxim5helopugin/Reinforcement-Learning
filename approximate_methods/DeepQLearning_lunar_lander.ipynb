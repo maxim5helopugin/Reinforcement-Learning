{
 "cells": [
  {
   "cell_type": "markdown",
   "metadata": {},
   "source": [
    "# Lunar Lander Deep-q network"
   ]
  },
  {
   "cell_type": "code",
   "execution_count": 1,
   "metadata": {},
   "outputs": [
    {
     "name": "stderr",
     "output_type": "stream",
     "text": [
      "Using TensorFlow backend.\n"
     ]
    }
   ],
   "source": [
    "import gym\n",
    "import numpy as np\n",
    "import keras\n",
    "from keras.layers import Dense\n",
    "from keras.models import Sequential\n",
    "from keras.optimizers import Adam\n",
    "from keras.utils import to_categorical\n",
    "\n",
    "import matplotlib.pyplot as plt\n",
    "\n",
    "max_epochs = 500\n",
    "mem_size = 100000\n",
    "blank = 20\n",
    "\n",
    "env = gym.make(\"LunarLander-v2\")"
   ]
  },
  {
   "cell_type": "code",
   "execution_count": 2,
   "metadata": {},
   "outputs": [],
   "source": [
    "from collections import deque\n",
    "\n",
    "class Memory:\n",
    "    def __init__(self, size, samplesize):\n",
    "        self.samplesize = samplesize\n",
    "        self.memory = deque(maxlen=size)\n",
    "        self.size = size\n",
    "    \n",
    "    def remember(self, experience):\n",
    "        self.memory.append(experience)\n",
    "    \n",
    "    def sample(self):\n",
    "        indecies = np.random.choice(np.arange(self.size), size=self.samplesize, replace = False)\n",
    "        return [self.memory[index] for index in indecies]       \n",
    "        "
   ]
  },
  {
   "cell_type": "code",
   "execution_count": 3,
   "metadata": {},
   "outputs": [],
   "source": [
    "class Agent_q():\n",
    "    def __init__(self, state_dim, action_dim):\n",
    "       \n",
    "        self.model = Sequential()\n",
    "        self.model.add(Dense(128, activation='relu', input_shape=(state_dim,)))\n",
    "        self.model.add(Dense(256, activation='relu'))\n",
    "        self.model.add(Dense(128, activation='relu'))\n",
    "        self.model.add(Dense(action_dim, activation = 'linear'))\n",
    "        adam = keras.optimizers.Adam(lr=0.0002, beta_1=0.9, beta_2=0.999, epsilon=None, decay=0.0, amsgrad=False)\n",
    "\n",
    "        self.model.compile(optimizer= adam, loss='logcosh', metrics=['accuracy'])\n",
    "        \n",
    "    def predict(self, state):\n",
    "        return np.argmax(self.model.predict(np.array([state])))\n",
    "    \n",
    "    def train(self, experiences):\n",
    "        state, action, reward, next_state = zip(*experiences)\n",
    "        state = np.array(state)\n",
    "        action = np.array(action)\n",
    "        reward = np.array(reward)\n",
    "        next_state = np.array(next_state)\n",
    "        \n",
    "        next_q_vals = self.model.predict(next_state)\n",
    "        mask = to_categorical(action)\n",
    "        \n",
    "        target = mask*reward[:,np.newaxis] + mask *0.99 * np.max(next_q_vals)\n",
    "        self.model.fit(state, target, batch_size=100, verbose = 0)"
   ]
  },
  {
   "cell_type": "code",
   "execution_count": 4,
   "metadata": {},
   "outputs": [
    {
     "name": "stdout",
     "output_type": "stream",
     "text": [
      "Prepopulating memory:\n",
      "____________________\n",
      "||||||||||||||||||||Training:\n",
      "____________________\n",
      "||||||||||||||||||||"
     ]
    },
    {
     "data": {
      "text/plain": [
       "Text(0,0.5,'Average Reward')"
      ]
     },
     "execution_count": 4,
     "metadata": {},
     "output_type": "execute_result"
    },
    {
     "data": {
      "image/png": "[encoded data removed]",
      "text/plain": [
       "<Figure size 432x288 with 1 Axes>"
      ]
     },
     "metadata": {
      "needs_background": "light"
     },
     "output_type": "display_data"
    }
   ],
   "source": [
    "memory = Memory(mem_size,200)\n",
    "agent = Agent_q(env.observation_space.shape[0], env.action_space.n)\n",
    "epsilon = 0.2\n",
    "epsilon_decay = 0.99\n",
    "\n",
    "print(\"Prepopulating memory:\")\n",
    "print(\"____________________\")\n",
    "state = env.reset()\n",
    "for step in range(mem_size):\n",
    "    if step%(mem_size/blank)==0:\n",
    "        print(\"|\", end='')\n",
    "    action = env.action_space.sample()\n",
    "    next_state, reward, done, _ = env.step(action)\n",
    "    memory.remember((state, action, reward, next_state))\n",
    "    if done:\n",
    "        state = env.reset()\n",
    "    else:\n",
    "        state = next_state\n",
    "     \n",
    "av_reward = []     \n",
    "epoch_reward = 0\n",
    "env.reset()\n",
    "print(\"\\nTraining:\")\n",
    "print(\"____________________\")\n",
    "for epoch in range(1,max_epochs+1):\n",
    "    done = False\n",
    "    state = env.reset()\n",
    "    while not done:\n",
    "        if np.random.uniform():\n",
    "            action = env.action_space.sample()\n",
    "        else:\n",
    "            action = agent.predict(state)\n",
    "        epsilon*=epsilon_decay\n",
    "        \n",
    "        next_state, reward, done, _ = env.step(action)\n",
    "        memory.remember((state, action, reward, next_state))\n",
    "        epoch_reward += reward\n",
    "        if done:\n",
    "            av_reward.append(epoch_reward/epoch)\n",
    "            if epoch%(max_epochs/blank)==0:\n",
    "                print(\"|\", end='')\n",
    "            agent.train(memory.sample())\n",
    "            break\n",
    "        else:\n",
    "            state = next_state\n",
    "    \n",
    "plt.plot(av_reward)\n",
    "plt.xlabel('Episode')\n",
    "plt.ylabel('Average Reward')"
   ]
  },
  {
   "cell_type": "code",
   "execution_count": 5,
   "metadata": {},
   "outputs": [],
   "source": [
    "state = env.reset()\n",
    "done = False\n",
    "while not done:\n",
    "    action = agent.predict(state)\n",
    "    env.render()\n",
    "    next_state, reward, done, _ = env.step(action)\n",
    "    if done:\n",
    "        env.close()\n",
    "    else:\n",
    "        state = next_state"
   ]
  },
  {
   "cell_type": "code",
   "execution_count": null,
   "metadata": {},
   "outputs": [],
   "source": []
  }
 ],
 "metadata": {
  "kernelspec": {
   "display_name": "Python 3",
   "language": "python",
   "name": "python3"
  },
  "language_info": {
   "codemirror_mode": {
    "name": "ipython",
    "version": 3
   },
   "file_extension": ".py",
   "mimetype": "text/x-python",
   "name": "python",
   "nbconvert_exporter": "python",
   "pygments_lexer": "ipython3",
   "version": "3.6.6"
  }
 },
 "nbformat": 4,
 "nbformat_minor": 2
}
