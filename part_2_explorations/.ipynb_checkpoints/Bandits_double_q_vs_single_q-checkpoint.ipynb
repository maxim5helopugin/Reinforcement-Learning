{
 "cells": [
  {
   "cell_type": "markdown",
   "metadata": {},
   "source": [
    "# Comparison between single and double q learning agents in 10-bandit problem"
   ]
  },
  {
   "cell_type": "markdown",
   "metadata": {},
   "source": [
    "Import environment and necessary libraries.\n",
    "Initialize rewards, total rewards, epsilon and episodes"
   ]
  },
  {
   "cell_type": "code",
   "execution_count": 1,
   "metadata": {},
   "outputs": [],
   "source": [
    "import gym\n",
    "import gym_envs\n",
    "import numpy as np\n",
    "from math import e\n",
    "\n",
    "%matplotlib inline\n",
    "import matplotlib.pyplot as plt\n",
    "\n",
    "reward_list = []\n",
    "reward_list_d = []\n",
    "total_reward = 0\n",
    "total_reward_d = 0\n",
    "\n",
    "epsilon = 0.1\n",
    "alpha = 0.1\n",
    "gamma = 1\n",
    "max_episodes = 300"
   ]
  },
  {
   "cell_type": "markdown",
   "metadata": {},
   "source": [
    "Double q learning agent"
   ]
  },
  {
   "cell_type": "code",
   "execution_count": 2,
   "metadata": {
    "scrolled": true
   },
   "outputs": [],
   "source": [
    "env = gym.make(\"NArmedBandit-v0\")\n",
    "env.seed(10)\n",
    "table_q_a = np.zeros(env.action_space.n)\n",
    "table_q_b = np.zeros(env.action_space.n)\n",
    "env.reset()\n",
    "\n",
    "for episode in np.arange(max_episodes):\n",
    "    if env.np_random.uniform() < epsilon:\n",
    "        action = env.np_random.randint(env.action_space.n)\n",
    "    else:\n",
    "        action = np.argmax((table_q_a+table_q_b))\n",
    "    _, reward, _, _ = env.step(action)\n",
    "    if env.np_random.uniform()<0.5:\n",
    "        table_q_a[action] = table_q_a[action] + alpha*(reward+gamma*table_q_b[np.argmax(table_q_a)]-table_q_a[action])\n",
    "    else:\n",
    "        table_q_b[action] = table_q_b[action] + alpha*(reward+gamma*table_q_a[np.argmax(table_q_b)]-table_q_b[action])\n",
    "\n",
    "    total_reward_d +=reward\n",
    "    reward_list_d.append(total_reward_d/(episode+1))"
   ]
  },
  {
   "cell_type": "markdown",
   "metadata": {},
   "source": [
    "Single q learning agent"
   ]
  },
  {
   "cell_type": "code",
   "execution_count": 3,
   "metadata": {},
   "outputs": [],
   "source": [
    "table_q = np.zeros(env.action_space.n)\n",
    "env.reset()\n",
    "\n",
    "for episode in np.arange(max_episodes):\n",
    "    if env.np_random.uniform() < epsilon:\n",
    "        action = env.np_random.randint(env.action_space.n)\n",
    "    else:\n",
    "        action = np.argmax(table_q)\n",
    "    _, reward, _, _ = env.step(action)\n",
    "    table_q[action] = table_q[action] + alpha*(reward+gamma*np.max(table_q)-table_q[action])\n",
    "\n",
    "    total_reward +=reward\n",
    "    reward_list.append(total_reward/(episode+1))"
   ]
  },
  {
   "cell_type": "markdown",
   "metadata": {},
   "source": [
    "Visualize the data"
   ]
  },
  {
   "cell_type": "code",
   "execution_count": 4,
   "metadata": {},
   "outputs": [
    {
     "data": {
      "text/plain": [
       "Text(0,0.5,'Reward')"
      ]
     },
     "execution_count": 4,
     "metadata": {},
     "output_type": "execute_result"
    },
    {
     "data": {
      "image/png": "[encoded data removed]",
      "text/plain": [
       "<Figure size 432x288 with 1 Axes>"
      ]
     },
     "metadata": {
      "needs_background": "light"
     },
     "output_type": "display_data"
    }
   ],
   "source": [
    "plt.plot(reward_list_d, label='double_q')\n",
    "plt.plot(reward_list, label='simgle_q')\n",
    "plt.legend(bbox_to_anchor=(1.05, 1), loc=2, borderaxespad=0.)\n",
    "\n",
    "plt.xlabel('Episode')\n",
    "plt.ylabel('Reward')"
   ]
  },
  {
   "cell_type": "markdown",
   "metadata": {},
   "source": [
    "Total rewards"
   ]
  },
  {
   "cell_type": "code",
   "execution_count": 5,
   "metadata": {},
   "outputs": [
    {
     "name": "stdout",
     "output_type": "stream",
     "text": [
      "Total rewards\n",
      "Double q:  469.794\n",
      "Single q:  437.644\n",
      "Optimal:   760.933\n"
     ]
    }
   ],
   "source": [
    "print(\"Total rewards\")\n",
    "print('{:10} {:.3f}'.format(\"Double q:\", total_reward_d))\n",
    "print('{:10} {:.3f}'.format(\"Single q:\", total_reward))\n",
    "print('{:10} {:.3f}'.format(\"Optimal:\", max_episodes*env.getmax()))"
   ]
  },
  {
   "cell_type": "markdown",
   "metadata": {},
   "source": [
    "Approximated Q-values of each action"
   ]
  },
  {
   "cell_type": "code",
   "execution_count": 6,
   "metadata": {},
   "outputs": [
    {
     "name": "stdout",
     "output_type": "stream",
     "text": [
      "Q-value approximations:\n",
      "Double q_a: [22.857  0.135  1.081  0.     2.23   1.375  3.162  1.861  3.624  1.935]\n",
      "Double q_b: [22.972  2.235  2.538  1.106  1.155  1.888  1.485  2.462  0.     0.   ]\n",
      "Single q:  [42.168  8.443  4.887  3.581  7.951  7.562  9.162  1.134  3.01   3.614]\n",
      "True vals: [ 1.593  0.682  1.496  0.192  2.536 -0.339 -0.164 -0.764 -0.291 -0.609 ]\n"
     ]
    }
   ],
   "source": [
    "print(\"Q-value approximations:\")\n",
    "np.set_printoptions(precision=3)\n",
    "print('{:10}'.format(\"Double q_a:\"),end=\" \")\n",
    "print(table_q_a)\n",
    "print('{:10}'.format(\"Double q_b:\"),end=\" \")\n",
    "print(table_q_b)\n",
    "print('{:10}'.format(\"Single q:\"),end=\" \")\n",
    "print(table_q)\n",
    "env.render()"
   ]
  },
  {
   "cell_type": "markdown",
   "metadata": {},
   "source": [
    "# Note that the q-values explode : \n",
    "Due to the fact that there is no notion of \"next state\", there is a single state in the game"
   ]
  },
  {
   "cell_type": "code",
   "execution_count": null,
   "metadata": {},
   "outputs": [],
   "source": []
  }
 ],
 "metadata": {
  "kernelspec": {
   "display_name": "Python 3",
   "language": "python",
   "name": "python3"
  },
  "language_info": {
   "codemirror_mode": {
    "name": "ipython",
    "version": 3
   },
   "file_extension": ".py",
   "mimetype": "text/x-python",
   "name": "python",
   "nbconvert_exporter": "python",
   "pygments_lexer": "ipython3",
   "version": "3.6.6"
  }
 },
 "nbformat": 4,
 "nbformat_minor": 2
}
