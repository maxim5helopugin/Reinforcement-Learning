{
 "cells": [
  {
   "cell_type": "markdown",
   "metadata": {},
   "source": [
    "# Comparison between exploratory techniques on the example of 10-armed bandit"
   ]
  },
  {
   "cell_type": "markdown",
   "metadata": {},
   "source": [
    "Import environment and necessary libraries.\n",
    "Initialize rewards, total rewards, epsilon and episodes"
   ]
  },
  {
   "cell_type": "code",
   "execution_count": 1,
   "metadata": {},
   "outputs": [],
   "source": [
    "import gym\n",
    "import gym_envs\n",
    "import numpy as np\n",
    "from math import e\n",
    "\n",
    "%matplotlib inline\n",
    "import matplotlib.pyplot as plt\n",
    "\n",
    "random_reward_list = []\n",
    "epsilon_reward_list = []\n",
    "softmax_reward_list = []\n",
    "ucb_reward_list = []\n",
    "thompson_reward_list = []\n",
    "\n",
    "random_action_list = np.zeros(10)\n",
    "epsilon_action_list = np.zeros(10)\n",
    "softmax_action_list = np.zeros(10)\n",
    "ucb_action_list = np.zeros(10)\n",
    "thompson_action_list = np.zeros(10)\n",
    "\n",
    "random_total_reward = 0\n",
    "epsilon_total_reward = 0\n",
    "softmax_total_reward = 0\n",
    "ucb_total_reward = 0\n",
    "thompson_total_reward = 0\n",
    "\n",
    "epsilon = 0.1\n",
    "max_episodes = 1000\n",
    "smoothening = 50"
   ]
  },
  {
   "cell_type": "markdown",
   "metadata": {},
   "source": [
    "Random agent\n",
    "$$a = random(0,b)$$"
   ]
  },
  {
   "cell_type": "code",
   "execution_count": 2,
   "metadata": {
    "scrolled": true
   },
   "outputs": [],
   "source": [
    "env = gym.make(\"NArmedBandit-v0\")\n",
    "env.reset()\n",
    "env.seed(5)\n",
    "\n",
    "table_q_r = np.zeros(env.action_space.n)\n",
    "table_n = np.ones(env.action_space.n)\n",
    "\n",
    "for episode in np.arange(max_episodes):\n",
    "    action = env.np_random.randint(env.action_space.n)\n",
    "    _, reward, _, _ = env.step(action)\n",
    "    table_q_r[action] = table_q_r[action] + (reward-table_q_r[action])/table_n[action]\n",
    "    table_n[action]+=1\n",
    "    \n",
    "    random_action_list[action]+=1;\n",
    "    random_total_reward+=reward\n",
    "    random_reward_list.append(random_total_reward/(episode+1))"
   ]
  },
  {
   "cell_type": "markdown",
   "metadata": {},
   "source": [
    "Epsilon greedy exploration:<br>\n",
    "\n",
    "with probability epsilon :\n",
    "$$a = random(0, b)$$\n",
    "with probability 1-epsilon:\n",
    "$$a = argmax_aQ(a)$$"
   ]
  },
  {
   "cell_type": "code",
   "execution_count": 3,
   "metadata": {},
   "outputs": [],
   "source": [
    "table_q_e = np.zeros(env.action_space.n)\n",
    "table_n = np.ones(env.action_space.n)\n",
    "env.reset()\n",
    "\n",
    "for episode in np.arange(max_episodes):\n",
    "    if env.np_random.uniform() < epsilon:\n",
    "        action = env.np_random.randint(env.action_space.n)\n",
    "    else:\n",
    "        action = np.argmax(table_q_e)\n",
    "    _, reward, _, _ = env.step(action)\n",
    "    table_q_e[action] = table_q_e[action] + (reward-table_q_e[action])/table_n[action]\n",
    "    table_n[action]+=1\n",
    "    \n",
    "    epsilon_action_list[action]+=1\n",
    "    epsilon_total_reward +=reward\n",
    "    epsilon_reward_list.append(epsilon_total_reward/(episode+1))"
   ]
  },
  {
   "cell_type": "markdown",
   "metadata": {},
   "source": [
    "Softmax agent<br>\n",
    "Choose action randomly from a probability distribution:\n",
    "$$ P(a) = \\dfrac{e^{Q(a)}}{\\sum_{a^\\prime=0}^{a^\\prime=b}e^{Q(a^\\prime)}}$$\n"
   ]
  },
  {
   "cell_type": "code",
   "execution_count": 4,
   "metadata": {},
   "outputs": [],
   "source": [
    "table_q_s = np.zeros(env.action_space.n)\n",
    "table_n = np.ones(env.action_space.n)\n",
    "env.reset()\n",
    "\n",
    "for episode in np.arange(max_episodes):\n",
    "    probabilities = np.exp(table_q_s)/(np.sum(np.exp(table_q_s),axis=0))\n",
    "    action = env.np_random.choice(env.action_space.n, p=probabilities)\n",
    "    _, reward, _, _ = env.step(action)\n",
    "    table_q_s[action] = table_q_s[action] + (reward-table_q_s[action])/table_n[action]\n",
    "    table_n[action]+=1\n",
    "    \n",
    "    softmax_action_list[action]+=1;\n",
    "    softmax_total_reward +=reward\n",
    "    softmax_reward_list.append(softmax_total_reward/(episode+1))"
   ]
  },
  {
   "cell_type": "markdown",
   "metadata": {},
   "source": [
    "UCB agent<br>\n",
    "Each time an action is chosen by:\n",
    "$$a = argmax_a(Q(a)+2\\sqrt{\\dfrac{\\ln t}{N(a)}})$$"
   ]
  },
  {
   "cell_type": "code",
   "execution_count": 5,
   "metadata": {},
   "outputs": [],
   "source": [
    "table_q_u = np.zeros(env.action_space.n)\n",
    "table_n = np.ones(env.action_space.n)\n",
    "table_ucb = np.zeros(env.action_space.n)\n",
    "env.reset()\n",
    "\n",
    "for episode in range(1,max_episodes):\n",
    "    table_ucb = table_q_u + 2*(np.sqrt((np.log(episode))/table_n))\n",
    "    action = np.argmax(table_ucb)\n",
    "    _, reward, _, _ = env.step(action)\n",
    "    table_q_u[action] = table_q_u[action] + (reward-table_q_u[action])/table_n[action]\n",
    "    table_n[action]+=1\n",
    "    \n",
    "    ucb_action_list[action]+=1\n",
    "    ucb_total_reward +=reward\n",
    "    ucb_reward_list.append(ucb_total_reward/(episode+1))"
   ]
  },
  {
   "cell_type": "markdown",
   "metadata": {},
   "source": [
    "Thompson agent<br>\n",
    "Each time an action is chosen by:\n",
    "$$a = argmax_aBeta(\\alpha_a,\\beta_a)$$\n",
    "with:<br>\n",
    "$$\\alpha_a=\\alpha_a+1\\quad\\textrm{if}\\quad r>0$$\n",
    "$$\\beta_a=\\beta_a+1\\quad\\textrm{if}\\quad r<=0$$"
   ]
  },
  {
   "cell_type": "code",
   "execution_count": 6,
   "metadata": {},
   "outputs": [],
   "source": [
    "table_q_t = np.zeros(env.action_space.n)\n",
    "table_n = np.ones(env.action_space.n)\n",
    "alpha_a = np.ones(env.action_space.n)\n",
    "beta_a = np.ones(env.action_space.n)\n",
    "env.reset()\n",
    "\n",
    "for episode in np.arange(max_episodes):\n",
    "    theta = env.np_random.beta(alpha_a+1,beta_a+1)\n",
    "    action = np.argmax(theta)\n",
    "    _, reward, _, _ = env.step(action)\n",
    "    \n",
    "    table_q_t[action] = table_q_t[action] + (reward-table_q_t[action])/table_n[action]\n",
    "    table_n[action]+=1\n",
    "    \n",
    "    if reward>0:\n",
    "        alpha_a[action]+=1\n",
    "    else:\n",
    "        beta_a[action]+=1\n",
    "    \n",
    "    thompson_action_list[action]+=1\n",
    "    thompson_total_reward +=reward   \n",
    "    thompson_reward_list.append(thompson_total_reward/(episode+1))"
   ]
  },
  {
   "cell_type": "markdown",
   "metadata": {},
   "source": [
    "Visualize the data<br>"
   ]
  },
  {
   "cell_type": "code",
   "execution_count": 7,
   "metadata": {},
   "outputs": [
    {
     "data": {
      "text/plain": [
       "Text(0,0.5,'Reward')"
      ]
     },
     "execution_count": 7,
     "metadata": {},
     "output_type": "execute_result"
    },
    {
     "data": {
      "image/png": "[encoded data removed]",
      "text/plain": [
       "<Figure size 432x288 with 1 Axes>"
      ]
     },
     "metadata": {
      "needs_background": "light"
     },
     "output_type": "display_data"
    }
   ],
   "source": [
    "plt.plot(random_reward_list, label='random')\n",
    "plt.plot(epsilon_reward_list, label='epsilon')\n",
    "plt.plot(softmax_reward_list, label='softmax')\n",
    "plt.plot(ucb_reward_list, label='ucb')\n",
    "plt.plot(thompson_reward_list, label='thompson')\n",
    "plt.legend(bbox_to_anchor=(1.05, 1), loc=2, borderaxespad=0.)\n",
    "\n",
    "plt.xlabel('Episode')\n",
    "plt.ylabel('Reward')"
   ]
  },
  {
   "cell_type": "markdown",
   "metadata": {},
   "source": [
    "Total rewards"
   ]
  },
  {
   "cell_type": "code",
   "execution_count": 8,
   "metadata": {},
   "outputs": [
    {
     "name": "stdout",
     "output_type": "stream",
     "text": [
      "Total rewards\n",
      "Random:    264.155\n",
      "Epsilon:   1512.607\n",
      "Softmax:   922.319\n",
      "UCB:       1576.654\n",
      "Thompson:  1646.432\n",
      "Optimal:   1698.033\n"
     ]
    }
   ],
   "source": [
    "print(\"Total rewards\")\n",
    "print('{:10} {:.3f}'.format(\"Random:\", random_total_reward))\n",
    "print('{:10} {:.3f}'.format(\"Epsilon:\", epsilon_total_reward))\n",
    "print('{:10} {:.3f}'.format(\"Softmax:\", softmax_total_reward))\n",
    "print('{:10} {:.3f}'.format(\"UCB:\", ucb_total_reward))\n",
    "print('{:10} {:.3f}'.format(\"Thompson:\", thompson_total_reward))\n",
    "print('{:10} {:.3f}'.format(\"Optimal:\", max_episodes*env.getmax()))"
   ]
  },
  {
   "cell_type": "markdown",
   "metadata": {},
   "source": [
    "Approximated Q-values of each action"
   ]
  },
  {
   "cell_type": "code",
   "execution_count": 9,
   "metadata": {},
   "outputs": [
    {
     "name": "stdout",
     "output_type": "stream",
     "text": [
      "Q-value approximations:\n",
      "Random:    [-0.429 -0.686  1.184  0.457  0.831 -0.846 -0.638  0.825  1.744  0.383]\n",
      "Epsilon:   [-0.196 -1.153  0.918 -0.418  0.692 -0.919 -1.169  0.735  1.659  0.357]\n",
      "Softmax:   [-0.326 -0.75   1.147  0.65   0.813 -1.367 -0.716  0.818  1.721  0.428]\n",
      "UCB:       [-0.304 -0.765  0.887  0.795  0.658 -0.833 -0.487  0.566  1.708  0.024]\n",
      "Thompson:  [ 0.124 -0.898  1.101  0.697  1.038 -0.772 -0.715  0.739  1.748 -0.811]\n",
      "True vals: [-0.376 -0.607  1.147  0.576  0.827 -0.924 -0.519  0.745  1.698  0.415 ]\n"
     ]
    }
   ],
   "source": [
    "print(\"Q-value approximations:\")\n",
    "np.set_printoptions(precision=3)\n",
    "print('{:10}'.format(\"Random:\"),end=\" \")\n",
    "print(table_q_r)\n",
    "print('{:10}'.format(\"Epsilon:\"),end=\" \")\n",
    "print(table_q_e)\n",
    "print('{:10}'.format(\"Softmax:\"),end=\" \")\n",
    "print(table_q_s)\n",
    "print('{:10}'.format(\"UCB:\"),end=\" \")\n",
    "print(table_q_u)\n",
    "print('{:10}'.format(\"Thompson:\"),end=\" \")\n",
    "print(table_q_t)\n",
    "env.render()"
   ]
  },
  {
   "cell_type": "markdown",
   "metadata": {},
   "source": [
    "Amount of action chosen"
   ]
  },
  {
   "cell_type": "code",
   "execution_count": 10,
   "metadata": {},
   "outputs": [
    {
     "name": "stdout",
     "output_type": "stream",
     "text": [
      "Actions chosen:\n",
      "Random:    [ 95. 107.  78. 116. 110. 101.  99. 109.  95.  90.]\n",
      "Epsilon:   [ 10.   7.  28.   4.  11.   7.   9.  10. 902.  12.]\n",
      "Softmax:   [ 36.  18. 160. 120. 100.  15.  30. 115. 293. 113.]\n",
      "UCB:       [  5.   3.  28.  23.  18.   3.   4.  17. 890.   8.]\n",
      "Thompson:  [  3.   3.  16.  17.  38.   3.   2.  16. 900.   2.]\n"
     ]
    }
   ],
   "source": [
    "print(\"Actions chosen:\")\n",
    "print('{:10}'.format(\"Random:\"),end=\" \")\n",
    "print(random_action_list)\n",
    "print('{:10}'.format(\"Epsilon:\"),end=\" \")\n",
    "print(epsilon_action_list)\n",
    "print('{:10}'.format(\"Softmax:\"),end=\" \")\n",
    "print(softmax_action_list)\n",
    "print('{:10}'.format(\"UCB:\"),end=\" \")\n",
    "print(ucb_action_list)\n",
    "print('{:10}'.format(\"Thompson:\"),end=\" \")\n",
    "print(thompson_action_list)"
   ]
  },
  {
   "cell_type": "code",
   "execution_count": null,
   "metadata": {},
   "outputs": [],
   "source": []
  }
 ],
 "metadata": {
  "kernelspec": {
   "display_name": "Python 3",
   "language": "python",
   "name": "python3"
  },
  "language_info": {
   "codemirror_mode": {
    "name": "ipython",
    "version": 3
   },
   "file_extension": ".py",
   "mimetype": "text/x-python",
   "name": "python",
   "nbconvert_exporter": "python",
   "pygments_lexer": "ipython3",
   "version": "3.6.6"
  }
 },
 "nbformat": 4,
 "nbformat_minor": 2
}
