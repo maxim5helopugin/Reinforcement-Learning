{
 "cells": [
  {
   "cell_type": "code",
   "execution_count": 1,
   "metadata": {},
   "outputs": [
    {
     "name": "stdout",
     "output_type": "stream",
     "text": [
      "['_', '_', '_', '_', '_', '_', '_', '_', '_', '_']\n",
      "['_', '_', '_', '_', '_', '_', '_', '_', '_', '_']\n",
      "['_', '_', '_', '_', '_', '_', '_', '_', '_', '_']\n",
      "['O', 'X', 'X', 'X', 'X', 'X', 'X', 'X', 'X', 'G']\n",
      "\n"
     ]
    }
   ],
   "source": [
    "import gym\n",
    "import gym_envs\n",
    "import numpy as np\n",
    "\n",
    "%matplotlib inline\n",
    "import matplotlib.pyplot as plt\n",
    "\n",
    "env = gym.make(\"CliffWalker-v0\")\n",
    "env.render()\n",
    "\n",
    "action_size = env.action_space.n\n",
    "state_size = env.observation_space.n\n",
    "\n",
    "epsilon = 0.1\n",
    "gamma = 1\n",
    "epoch = 500\n",
    "alpha = 0.3\n",
    "\n",
    "initial_seed = 0\n",
    "max_steps = 100"
   ]
  },
  {
   "cell_type": "code",
   "execution_count": 2,
   "metadata": {},
   "outputs": [],
   "source": [
    "table_q = np.zeros((state_size, action_size))\n",
    "\n",
    "done = False\n",
    "reward_list = []\n",
    "\n",
    "seed = initial_seed\n",
    "env.seed(seed)\n",
    "total_reward = 0\n",
    "\n",
    "for episode in np.arange(epoch):\n",
    "    state = env.reset()\n",
    "    action = 0\n",
    "    for step in np.arange(max_steps):\n",
    "        if env.np_random.uniform() <= epsilon:\n",
    "            action = env.np_random.randint(env.action_space.n)\n",
    "        else:\n",
    "            action = np.argmax(table_q[state,:])\n",
    "            \n",
    "        next_state, reward, done, _ = env.step(action)\n",
    "        table_q[state, action] = table_q[state,action] + alpha*(reward + gamma*np.max(table_q[next_state,:]) - table_q[state,action])\n",
    "        total_reward+=reward\n",
    "        \n",
    "        if done or step==(max_steps-1):\n",
    "            reward_list.append(total_reward/(episode+1))\n",
    "            seed+=1\n",
    "            env.seed(seed)\n",
    "            break\n",
    "        else:\n",
    "            state = next_state"
   ]
  },
  {
   "cell_type": "code",
   "execution_count": 3,
   "metadata": {},
   "outputs": [],
   "source": [
    "table_q_s = np.zeros((state_size, action_size))\n",
    "\n",
    "done = False\n",
    "reward_list_s = []\n",
    "seed = initial_seed\n",
    "env.seed(seed)\n",
    "total_reward = 0\n",
    "\n",
    "for episode in np.arange(epoch):\n",
    "    state = env.reset()\n",
    "    action = 0\n",
    "    next_action = 0\n",
    "    \n",
    "    if env.np_random.uniform() <= epsilon:\n",
    "        action = env.np_random.randint(env.action_space.n)\n",
    "    else:\n",
    "        action = np.argmax(table_q_s[state,:])\n",
    "            \n",
    "    for step in np.arange(max_steps):\n",
    "        next_state, reward, done, _ = env.step(action)\n",
    "        if env.np_random.uniform() <= epsilon:\n",
    "            next_action = env.np_random.randint(env.action_space.n)\n",
    "        else:\n",
    "            next_action = np.argmax(table_q_s[next_state,:])  \n",
    "        \n",
    "        table_q_s[state,action] = table_q_s[state,action] + alpha*(reward + gamma*table_q_s[next_state, next_action]-table_q_s[state,action])\n",
    "        total_reward+=reward\n",
    "        \n",
    "        if done or step==(max_steps-1):\n",
    "            reward_list_s.append(total_reward/(episode+1))\n",
    "            seed+=1\n",
    "            env.seed(seed)\n",
    "            break\n",
    "        else:\n",
    "            state = next_state\n",
    "            action = next_action"
   ]
  },
  {
   "cell_type": "code",
   "execution_count": 4,
   "metadata": {},
   "outputs": [
    {
     "data": {
      "text/plain": [
       "Text(0,0.5,'Reward')"
      ]
     },
     "execution_count": 4,
     "metadata": {},
     "output_type": "execute_result"
    },
    {
     "data": {
      "image/png": "[encoded data removed]",
      "text/plain": [
       "<Figure size 432x288 with 1 Axes>"
      ]
     },
     "metadata": {
      "needs_background": "light"
     },
     "output_type": "display_data"
    }
   ],
   "source": [
    "plt.plot(reward_list, label='q-learning')\n",
    "plt.plot(reward_list_s, label='sarsa')\n",
    "plt.legend(bbox_to_anchor=(1.05, 1), loc=2, borderaxespad=0.)\n",
    "\n",
    "plt.xlabel('Episode')\n",
    "plt.ylabel('Reward')"
   ]
  },
  {
   "cell_type": "code",
   "execution_count": null,
   "metadata": {},
   "outputs": [],
   "source": []
  }
 ],
 "metadata": {
  "kernelspec": {
   "display_name": "Python 3",
   "language": "python",
   "name": "python3"
  },
  "language_info": {
   "codemirror_mode": {
    "name": "ipython",
    "version": 3
   },
   "file_extension": ".py",
   "mimetype": "text/x-python",
   "name": "python",
   "nbconvert_exporter": "python",
   "pygments_lexer": "ipython3",
   "version": "3.6.6"
  }
 },
 "nbformat": 4,
 "nbformat_minor": 2
}
