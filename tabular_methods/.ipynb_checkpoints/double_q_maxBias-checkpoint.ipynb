{
 "cells": [
  {
   "cell_type": "markdown",
   "metadata": {},
   "source": [
    "# Double q vs Single q learning agent on Small MDP environment"
   ]
  },
  {
   "cell_type": "markdown",
   "metadata": {},
   "source": [
    "Import environments, initialize the seed"
   ]
  },
  {
   "cell_type": "code",
   "execution_count": 1,
   "metadata": {},
   "outputs": [],
   "source": [
    "import gym\n",
    "import gym_envs\n",
    "import numpy as np\n",
    "\n",
    "%matplotlib inline\n",
    "import matplotlib.pyplot as plt\n",
    "\n",
    "env = gym.make(\"MaxBias-v0\")\n",
    "action_size = env.action_space\n",
    "state_size = env.observation_space.n\n",
    "\n",
    "epsilon = 0.1\n",
    "gamma = 1\n",
    "epoch = 2000\n",
    "alpha = 0.1\n",
    "initial_seed = 1\n",
    "seed = initial_seed\n",
    "env.seed(seed)\n",
    "\n",
    "q_table = []\n",
    "\n",
    "for state in range(state_size):\n",
    "    q_table_row = []\n",
    "    for action in range(action_size[state]):\n",
    "        q_table_row.append(0)\n",
    "    q_table.append(q_table_row)"
   ]
  },
  {
   "cell_type": "markdown",
   "metadata": {},
   "source": [
    "Single q-learning agent"
   ]
  },
  {
   "cell_type": "code",
   "execution_count": 2,
   "metadata": {},
   "outputs": [],
   "source": [
    "left_moves_s = []\n",
    "\n",
    "tot_left_moves_s = 0\n",
    "tot_right_moves_s = 0\n",
    "    \n",
    "for episode in range(epoch):\n",
    "    state = env.reset()\n",
    "    qmax = 0\n",
    "    for step in range(1,3):\n",
    "        action = 0\n",
    "        if np.random.uniform() < epsilon:\n",
    "            action = env.np_random.randint(len(q_table[state]))\n",
    "        else:\n",
    "            action = env.np_random.choice(np.flatnonzero(q_table[state] == np.array(q_table[state]).max()))\n",
    "        next_state, reward, done, _ = env.step(action)\n",
    "        q_table[state][action] = q_table[state][action] + alpha*(reward + gamma*np.max(q_table[next_state]) - q_table[state][action])\n",
    "        \n",
    "        if state == 2 and action == 0:\n",
    "            tot_right_moves_s+=1\n",
    "        elif state == 2:\n",
    "            tot_left_moves_s+=1\n",
    "        if done:\n",
    "            left_moves_s.append(tot_left_moves_s/(tot_left_moves_s+tot_right_moves_s))\n",
    "            seed +=1\n",
    "            env.seed(seed)\n",
    "            break\n",
    "            \n",
    "        state = next_state        "
   ]
  },
  {
   "cell_type": "markdown",
   "metadata": {},
   "source": [
    "Double q-learning agent"
   ]
  },
  {
   "cell_type": "code",
   "execution_count": 3,
   "metadata": {},
   "outputs": [],
   "source": [
    "q_table_a = []\n",
    "q_table_b = []\n",
    "\n",
    "for state in range(state_size):\n",
    "    q_table_a_row = []\n",
    "    for action in range(action_size[state]):\n",
    "        q_table_a_row.append(0)\n",
    "    q_table_a.append(q_table_a_row)\n",
    "\n",
    "for state in range(state_size):\n",
    "    q_table_b_row = []\n",
    "    for action in range(action_size[state]):\n",
    "        q_table_b_row.append(0)\n",
    "    q_table_b.append(q_table_b_row)\n",
    "\n",
    "left_moves_d = []\n",
    "seed = initial_seed\n",
    "env.seed(seed)\n",
    "\n",
    "tot_left_moves_d = 0\n",
    "tot_right_moves_d = 0\n",
    "    \n",
    "for episode in range(epoch):\n",
    "    state = env.reset()\n",
    "    qmax = 0\n",
    "    \n",
    "    for step in range(1,3):\n",
    "        action = 0\n",
    "        if env.np_random.uniform() < epsilon:\n",
    "            action = env.np_random.randint(len(q_table_a[state]))\n",
    "        else:\n",
    "            summation = [x + y for x, y in zip(q_table_a[state], q_table_b[state])]\n",
    "            action = env.np_random.choice(np.flatnonzero(summation == np.array(summation).max()))\n",
    "\n",
    "        next_state, reward, done, _ = env.step(action)\n",
    "        \n",
    "        if env.np_random.uniform() < 0.5:\n",
    "            q_table_a[state][action] = q_table_a[state][action] + alpha*(reward + gamma*q_table_b[next_state][np.argmax(q_table_a[next_state])] - q_table_a[state][action])\n",
    "        else:\n",
    "            q_table_b[state][action] = q_table_b[state][action] + alpha*(reward + gamma*q_table_a[next_state][np.argmax(q_table_b[next_state])] - q_table_b[state][action])    \n",
    "        \n",
    "        if state == 2 and action == 0:\n",
    "            tot_right_moves_d+=1\n",
    "        elif state == 2:\n",
    "            tot_left_moves_d+=1\n",
    "            \n",
    "        if done:\n",
    "            left_moves_d.append(tot_left_moves_d/(tot_left_moves_d+tot_right_moves_d))\n",
    "            seed +=1\n",
    "            env.seed(seed)\n",
    "            break\n",
    "            \n",
    "        state = next_state"
   ]
  },
  {
   "cell_type": "markdown",
   "metadata": {},
   "source": [
    "Visualize the data"
   ]
  },
  {
   "cell_type": "code",
   "execution_count": 4,
   "metadata": {},
   "outputs": [
    {
     "data": {
      "text/plain": [
       "Text(0,0.5,'Percentage')"
      ]
     },
     "execution_count": 4,
     "metadata": {},
     "output_type": "execute_result"
    },
    {
     "data": {
      "image/png": "[encoded data removed]",
      "text/plain": [
       "<Figure size 432x288 with 1 Axes>"
      ]
     },
     "metadata": {
      "needs_background": "light"
     },
     "output_type": "display_data"
    }
   ],
   "source": [
    "plt.plot(left_moves_s, label='left moves single q')\n",
    "plt.plot(left_moves_d, label='left moves double q')\n",
    "plt.legend(bbox_to_anchor=(1.05, 1), loc=2, borderaxespad=0.)\n",
    "\n",
    "plt.xlabel('Episode')\n",
    "plt.ylabel('Percentage')"
   ]
  },
  {
   "cell_type": "code",
   "execution_count": null,
   "metadata": {},
   "outputs": [],
   "source": []
  }
 ],
 "metadata": {
  "kernelspec": {
   "display_name": "Python 3",
   "language": "python",
   "name": "python3"
  },
  "language_info": {
   "codemirror_mode": {
    "name": "ipython",
    "version": 3
   },
   "file_extension": ".py",
   "mimetype": "text/x-python",
   "name": "python",
   "nbconvert_exporter": "python",
   "pygments_lexer": "ipython3",
   "version": "3.6.6"
  }
 },
 "nbformat": 4,
 "nbformat_minor": 2
}
