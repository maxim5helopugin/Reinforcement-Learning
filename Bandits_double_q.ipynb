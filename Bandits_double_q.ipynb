{
 "cells": [
  {
   "cell_type": "markdown",
   "metadata": {},
   "source": [
    "# Comparison between single and double q learning agents in 10-bandit problem"
   ]
  },
  {
   "cell_type": "markdown",
   "metadata": {},
   "source": [
    "Import environment and necessary libraries.\n",
    "Initialize rewards, total rewards, epsilon and episodes"
   ]
  },
  {
   "cell_type": "code",
   "execution_count": 1,
   "metadata": {},
   "outputs": [],
   "source": [
    "import gym\n",
    "import gym_envs\n",
    "import numpy as np\n",
    "from math import e\n",
    "\n",
    "%matplotlib inline\n",
    "import matplotlib.pyplot as plt\n",
    "\n",
    "reward_list = []\n",
    "reward_list_d = []\n",
    "total_reward = 0\n",
    "total_reward_d = 0\n",
    "\n",
    "epsilon = 0.1\n",
    "alpha = 0.1\n",
    "gamma = 1\n",
    "max_episodes = 1000"
   ]
  },
  {
   "cell_type": "markdown",
   "metadata": {},
   "source": [
    "Double q learning experiment"
   ]
  },
  {
   "cell_type": "code",
   "execution_count": 2,
   "metadata": {
    "scrolled": true
   },
   "outputs": [],
   "source": [
    "env = gym.make(\"NArmedBandit-v0\")\n",
    "env.seed(2)\n",
    "table_q_a = np.zeros(env.action_space.n)\n",
    "table_q_b = np.zeros(env.action_space.n)\n",
    "env.reset()\n",
    "\n",
    "for episode in np.arange(max_episodes):\n",
    "    if env.np_random.uniform() < epsilon:\n",
    "        action = env.np_random.randint(env.action_space.n)\n",
    "    else:\n",
    "        action = np.argmax((table_q_a+table_q_b))\n",
    "    _, reward, _, _ = env.step(action)\n",
    "    if env.np_random.uniform()<0.5:\n",
    "        table_q_a[action] = table_q_a[action] + alpha*(reward+gamma*table_q_b[np.argmax(table_q_a)]-table_q_a[action])\n",
    "    else:\n",
    "        table_q_b[action] = table_q_b[action] + alpha*(reward+gamma*table_q_a[np.argmax(table_q_b)]-table_q_b[action])\n",
    "\n",
    "    total_reward_d +=reward\n",
    "    reward_list_d.append(total_reward_d/(episode+1))"
   ]
  },
  {
   "cell_type": "code",
   "execution_count": 3,
   "metadata": {},
   "outputs": [],
   "source": [
    "table_q = np.zeros(env.action_space.n)\n",
    "env.reset()\n",
    "\n",
    "for episode in np.arange(max_episodes):\n",
    "    if env.np_random.uniform() < epsilon:\n",
    "        action = env.np_random.randint(env.action_space.n)\n",
    "    else:\n",
    "        action = np.argmax(table_q)\n",
    "    _, reward, _, _ = env.step(action)\n",
    "    table_q[action] = table_q[action] + alpha*(reward+gamma*np.argmax(table_q)-table_q[action])\n",
    "\n",
    "    total_reward +=reward\n",
    "    reward_list.append(total_reward/(episode+1))"
   ]
  },
  {
   "cell_type": "markdown",
   "metadata": {},
   "source": [
    "Visualize the data<br>\n",
    "Graphs of average reward over 50 actions"
   ]
  },
  {
   "cell_type": "code",
   "execution_count": 4,
   "metadata": {},
   "outputs": [
    {
     "data": {
      "text/plain": [
       "Text(0,0.5,'Reward')"
      ]
     },
     "execution_count": 4,
     "metadata": {},
     "output_type": "execute_result"
    },
    {
     "data": {
      "image/png": "[encoded data removed]",
      "text/plain": [
       "<Figure size 432x288 with 1 Axes>"
      ]
     },
     "metadata": {
      "needs_background": "light"
     },
     "output_type": "display_data"
    }
   ],
   "source": [
    "plt.plot(reward_list_d, label='double_q')\n",
    "plt.plot(reward_list, label='simgle_q')\n",
    "plt.legend(bbox_to_anchor=(1.05, 1), loc=2, borderaxespad=0.)\n",
    "\n",
    "plt.xlabel('Episode')\n",
    "plt.ylabel('Reward')"
   ]
  },
  {
   "cell_type": "markdown",
   "metadata": {},
   "source": [
    "Total rewards"
   ]
  },
  {
   "cell_type": "code",
   "execution_count": 5,
   "metadata": {},
   "outputs": [
    {
     "name": "stdout",
     "output_type": "stream",
     "text": [
      "Total rewards\n",
      "Double q:  884.696\n",
      "Single q:  2393.010\n",
      "Optimal:   2896.986\n"
     ]
    }
   ],
   "source": [
    "print(\"Total rewards\")\n",
    "print('{:10} {:.3f}'.format(\"Double q:\", total_reward_d))\n",
    "print('{:10} {:.3f}'.format(\"Single q:\", total_reward))\n",
    "print('{:10} {:.3f}'.format(\"Optimal:\", max_episodes*env.getmax()))"
   ]
  },
  {
   "cell_type": "markdown",
   "metadata": {},
   "source": [
    "Approximated Q-values of each action"
   ]
  },
  {
   "cell_type": "code",
   "execution_count": 6,
   "metadata": {},
   "outputs": [
    {
     "name": "stdout",
     "output_type": "stream",
     "text": [
      "Q-value approximations:\n",
      "Double q_a: [ 7.349 41.76   9.224 17.655  9.734  9.623  7.547  7.962  6.299  4.962]\n",
      "Double q_b: [ 6.532 41.522 14.78   3.48  11.529  7.708 13.499 15.24   9.192  5.031]\n",
      "Single q:  [ 4.295  5.565  5.877  5.379  5.531  5.615  5.412  3.792 10.767  2.317]\n",
      "True vals: [ 0.420  0.971  1.502  1.013  0.066  0.783  0.335 -1.371  2.897 -1.972 ]\n"
     ]
    }
   ],
   "source": [
    "print(\"Q-value approximations:\")\n",
    "np.set_printoptions(precision=3)\n",
    "print('{:10}'.format(\"Double q_a:\"),end=\" \")\n",
    "print(table_q_a)\n",
    "print('{:10}'.format(\"Double q_b:\"),end=\" \")\n",
    "print(table_q_b)\n",
    "print('{:10}'.format(\"Single q:\"),end=\" \")\n",
    "print(table_q)\n",
    "env.render()"
   ]
  }
 ],
 "metadata": {
  "kernelspec": {
   "display_name": "Python 3",
   "language": "python",
   "name": "python3"
  },
  "language_info": {
   "codemirror_mode": {
    "name": "ipython",
    "version": 3
   },
   "file_extension": ".py",
   "mimetype": "text/x-python",
   "name": "python",
   "nbconvert_exporter": "python",
   "pygments_lexer": "ipython3",
   "version": "3.6.6"
  }
 },
 "nbformat": 4,
 "nbformat_minor": 2
}
