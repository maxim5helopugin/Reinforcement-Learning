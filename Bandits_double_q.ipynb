{
 "cells": [
  {
   "cell_type": "markdown",
   "metadata": {},
   "source": [
    "# Comparison between single and double q learning agents in 10-bandit problem"
   ]
  },
  {
   "cell_type": "markdown",
   "metadata": {},
   "source": [
    "Import environment and necessary libraries.\n",
    "Initialize rewards, total rewards, epsilon and episodes"
   ]
  },
  {
   "cell_type": "code",
   "execution_count": 1,
   "metadata": {},
   "outputs": [],
   "source": [
    "import gym\n",
    "import gym_envs\n",
    "import numpy as np\n",
    "from math import e\n",
    "\n",
    "%matplotlib inline\n",
    "import matplotlib.pyplot as plt\n",
    "\n",
    "reward_list = []\n",
    "reward_list_d = []\n",
    "total_reward = 0\n",
    "total_reward_d = 0\n",
    "\n",
    "epsilon = 0.1\n",
    "alpha = 0.1\n",
    "gamma = 1\n",
    "max_episodes = 100"
   ]
  },
  {
   "cell_type": "markdown",
   "metadata": {},
   "source": [
    "Double q learning agent"
   ]
  },
  {
   "cell_type": "code",
   "execution_count": 2,
   "metadata": {
    "scrolled": true
   },
   "outputs": [],
   "source": [
    "env = gym.make(\"NArmedBandit-v0\")\n",
    "env.seed(10)\n",
    "table_q_a = np.zeros(env.action_space.n)\n",
    "table_q_b = np.zeros(env.action_space.n)\n",
    "env.reset()\n",
    "\n",
    "for episode in np.arange(max_episodes):\n",
    "    if env.np_random.uniform() < epsilon:\n",
    "        action = env.np_random.randint(env.action_space.n)\n",
    "    else:\n",
    "        action = np.argmax((table_q_a+table_q_b))\n",
    "    _, reward, _, _ = env.step(action)\n",
    "    if env.np_random.uniform()<0.5:\n",
    "        table_q_a[action] = table_q_a[action] + alpha*(reward+gamma*table_q_b[np.argmax(table_q_a)]-table_q_a[action])\n",
    "    else:\n",
    "        table_q_b[action] = table_q_b[action] + alpha*(reward+gamma*table_q_a[np.argmax(table_q_b)]-table_q_b[action])\n",
    "\n",
    "    total_reward_d +=reward\n",
    "    reward_list_d.append(total_reward_d/(episode+1))"
   ]
  },
  {
   "cell_type": "markdown",
   "metadata": {},
   "source": [
    "Single q learning agent"
   ]
  },
  {
   "cell_type": "code",
   "execution_count": 3,
   "metadata": {},
   "outputs": [
    {
     "name": "stdout",
     "output_type": "stream",
     "text": [
      "[0.283 0.    0.    0.    0.    0.    0.    0.    0.    0.   ]\n",
      "[0.494 0.    0.    0.    0.    0.    0.    0.    0.    0.   ]\n",
      "[0.728 0.    0.    0.    0.    0.    0.    0.    0.    0.   ]\n",
      "[1.009 0.    0.    0.    0.    0.    0.    0.    0.    0.   ]\n",
      "[1.248 0.    0.    0.    0.    0.    0.    0.    0.    0.   ]\n",
      "[1.326 0.    0.    0.    0.    0.    0.    0.    0.    0.   ]\n",
      "[1.326 0.    0.    0.    0.    0.    0.    0.    0.193 0.   ]\n",
      "[1.648 0.    0.    0.    0.    0.    0.    0.    0.193 0.   ]\n",
      "[1.648 0.    0.381 0.    0.    0.    0.    0.    0.193 0.   ]\n",
      "[1.865 0.    0.381 0.    0.    0.    0.    0.    0.193 0.   ]\n",
      "[1.906 0.    0.381 0.    0.    0.    0.    0.    0.193 0.   ]\n",
      "[2.095 0.    0.381 0.    0.    0.    0.    0.    0.193 0.   ]\n",
      "[2.263 0.    0.381 0.    0.    0.    0.    0.    0.193 0.   ]\n",
      "[2.338 0.    0.381 0.    0.    0.    0.    0.    0.193 0.   ]\n",
      "[2.487 0.    0.381 0.    0.    0.    0.    0.    0.193 0.   ]\n",
      "[2.62  0.    0.381 0.    0.    0.    0.    0.    0.193 0.   ]\n",
      "[2.733 0.    0.381 0.    0.    0.    0.    0.    0.193 0.   ]\n",
      "[2.874 0.    0.381 0.    0.    0.    0.    0.    0.193 0.   ]\n",
      "[3.18  0.    0.381 0.    0.    0.    0.    0.    0.193 0.   ]\n",
      "[3.417 0.    0.381 0.    0.    0.    0.    0.    0.193 0.   ]\n",
      "[3.634 0.    0.381 0.    0.    0.    0.    0.    0.193 0.   ]\n",
      "[3.7   0.    0.381 0.    0.    0.    0.    0.    0.193 0.   ]\n",
      "[3.7   0.    0.381 0.    0.    0.    0.    0.    0.577 0.   ]\n",
      "[3.801 0.    0.381 0.    0.    0.    0.    0.    0.577 0.   ]\n",
      "[3.801 0.    0.381 0.    0.    0.    0.    0.    0.577 0.255]\n",
      "[3.97  0.    0.381 0.    0.    0.    0.    0.    0.577 0.255]\n",
      "[4.086 0.    0.381 0.    0.    0.    0.    0.    0.577 0.255]\n",
      "[4.101 0.    0.381 0.    0.    0.    0.    0.    0.577 0.255]\n",
      "[4.234 0.    0.381 0.    0.    0.    0.    0.    0.577 0.255]\n",
      "[4.417 0.    0.381 0.    0.    0.    0.    0.    0.577 0.255]\n",
      "[4.593 0.    0.381 0.    0.    0.    0.    0.    0.577 0.255]\n",
      "[4.761 0.    0.381 0.    0.    0.    0.    0.    0.577 0.255]\n",
      "[4.812 0.    0.381 0.    0.    0.    0.    0.    0.577 0.255]\n",
      "[4.812 0.    1.038 0.    0.    0.    0.    0.    0.577 0.255]\n",
      "[5.149 0.    1.038 0.    0.    0.    0.    0.    0.577 0.255]\n",
      "[5.258 0.    1.038 0.    0.    0.    0.    0.    0.577 0.255]\n",
      "[5.34  0.    1.038 0.    0.    0.    0.    0.    0.577 0.255]\n",
      "[5.627 0.    1.038 0.    0.    0.    0.    0.    0.577 0.255]\n",
      "[5.829 0.    1.038 0.    0.    0.    0.    0.    0.577 0.255]\n",
      "[5.962 0.    1.038 0.    0.    0.    0.    0.    0.577 0.255]\n",
      "[6.163 0.    1.038 0.    0.    0.    0.    0.    0.577 0.255]\n",
      "[6.434 0.    1.038 0.    0.    0.    0.    0.    0.577 0.255]\n",
      "[6.434 0.    1.038 0.    0.    0.    0.    0.    0.577 0.807]\n",
      "[6.772 0.    1.038 0.    0.    0.    0.    0.    0.577 0.807]\n",
      "[6.829 0.    1.038 0.    0.    0.    0.    0.    0.577 0.807]\n",
      "[6.864 0.    1.038 0.    0.    0.    0.    0.    0.577 0.807]\n",
      "[7.047 0.    1.038 0.    0.    0.    0.    0.    0.577 0.807]\n",
      "[7.322 0.    1.038 0.    0.    0.    0.    0.    0.577 0.807]\n",
      "[7.636 0.    1.038 0.    0.    0.    0.    0.    0.577 0.807]\n",
      "[7.918 0.    1.038 0.    0.    0.    0.    0.    0.577 0.807]\n",
      "[8.06  0.    1.038 0.    0.    0.    0.    0.    0.577 0.807]\n",
      "[8.179 0.    1.038 0.    0.    0.    0.    0.    0.577 0.807]\n",
      "[8.247 0.    1.038 0.    0.    0.    0.    0.    0.577 0.807]\n",
      "[8.36  0.    1.038 0.    0.    0.    0.    0.    0.577 0.807]\n",
      "[8.327 0.    1.038 0.    0.    0.    0.    0.    0.577 0.807]\n",
      "[8.451 0.    1.038 0.    0.    0.    0.    0.    0.577 0.807]\n",
      "[8.433 0.    1.038 0.    0.    0.    0.    0.    0.577 0.807]\n",
      "[8.439 0.    1.038 0.    0.    0.    0.    0.    0.577 0.807]\n",
      "[8.439 0.866 1.038 0.    0.    0.    0.    0.    0.577 0.807]\n",
      "[8.619 0.866 1.038 0.    0.    0.    0.    0.    0.577 0.807]\n",
      "[8.689 0.866 1.038 0.    0.    0.    0.    0.    0.577 0.807]\n",
      "[8.826 0.866 1.038 0.    0.    0.    0.    0.    0.577 0.807]\n",
      "[9.036 0.866 1.038 0.    0.    0.    0.    0.    0.577 0.807]\n",
      "[9.276 0.866 1.038 0.    0.    0.    0.    0.    0.577 0.807]\n",
      "[9.385 0.866 1.038 0.    0.    0.    0.    0.    0.577 0.807]\n",
      "[9.59  0.866 1.038 0.    0.    0.    0.    0.    0.577 0.807]\n",
      "[9.544 0.866 1.038 0.    0.    0.    0.    0.    0.577 0.807]\n",
      "[9.75  0.866 1.038 0.    0.    0.    0.    0.    0.577 0.807]\n",
      "[9.75  0.866 1.038 0.    0.    0.    1.007 0.    0.577 0.807]\n",
      "[9.815 0.866 1.038 0.    0.    0.    1.007 0.    0.577 0.807]\n",
      "[9.891 0.866 1.038 0.    0.    0.    1.007 0.    0.577 0.807]\n",
      "[9.902 0.866 1.038 0.    0.    0.    1.007 0.    0.577 0.807]\n",
      "[10.111  0.866  1.038  0.     0.     0.     1.007  0.     0.577  0.807]\n",
      "[10.193  0.866  1.038  0.     0.     0.     1.007  0.     0.577  0.807]\n",
      "[10.305  0.866  1.038  0.     0.     0.     1.007  0.     0.577  0.807]\n",
      "[10.612  0.866  1.038  0.     0.     0.     1.007  0.     0.577  0.807]\n",
      "[10.612  0.866  1.038  0.     0.     0.     1.007  1.134  0.577  0.807]\n",
      "[10.596  0.866  1.038  0.     0.     0.     1.007  1.134  0.577  0.807]\n",
      "[10.734  0.866  1.038  0.     0.     0.     1.007  1.134  0.577  0.807]\n",
      "[10.997  0.866  1.038  0.     0.     0.     1.007  1.134  0.577  0.807]\n",
      "[11.058  0.866  1.038  0.     0.     0.     1.007  1.134  0.577  0.807]\n",
      "[11.117  0.866  1.038  0.     0.     0.     1.007  1.134  0.577  0.807]\n",
      "[11.281  0.866  1.038  0.     0.     0.     1.007  1.134  0.577  0.807]\n",
      "[11.385  0.866  1.038  0.     0.     0.     1.007  1.134  0.577  0.807]\n",
      "[11.429  0.866  1.038  0.     0.     0.     1.007  1.134  0.577  0.807]\n",
      "[11.671  0.866  1.038  0.     0.     0.     1.007  1.134  0.577  0.807]\n",
      "[11.846  0.866  1.038  0.     0.     0.     1.007  1.134  0.577  0.807]\n",
      "[11.894  0.866  1.038  0.     0.     0.     1.007  1.134  0.577  0.807]\n",
      "[12.091  0.866  1.038  0.     0.     0.     1.007  1.134  0.577  0.807]\n",
      "[12.156  0.866  1.038  0.     0.     0.     1.007  1.134  0.577  0.807]\n",
      "[12.156  0.866  1.038  0.     1.417  0.     1.007  1.134  0.577  0.807]\n",
      "[12.359  0.866  1.038  0.     1.417  0.     1.007  1.134  0.577  0.807]\n",
      "[12.359  0.866  1.038  1.258  1.417  0.     1.007  1.134  0.577  0.807]\n",
      "[12.557  0.866  1.038  1.258  1.417  0.     1.007  1.134  0.577  0.807]\n",
      "[12.65   0.866  1.038  1.258  1.417  0.     1.007  1.134  0.577  0.807]\n",
      "[12.812  0.866  1.038  1.258  1.417  0.     1.007  1.134  0.577  0.807]\n",
      "[12.98   0.866  1.038  1.258  1.417  0.     1.007  1.134  0.577  0.807]\n",
      "[13.079  0.866  1.038  1.258  1.417  0.     1.007  1.134  0.577  0.807]\n",
      "[13.13   0.866  1.038  1.258  1.417  0.     1.007  1.134  0.577  0.807]\n",
      "[13.163  0.866  1.038  1.258  1.417  0.     1.007  1.134  0.577  0.807]\n"
     ]
    }
   ],
   "source": [
    "table_q = np.zeros(env.action_space.n)\n",
    "env.reset()\n",
    "\n",
    "for episode in np.arange(max_episodes):\n",
    "    if env.np_random.uniform() < epsilon:\n",
    "        action = env.np_random.randint(env.action_space.n)\n",
    "    else:\n",
    "        action = np.argmax(table_q)\n",
    "    _, reward, _, _ = env.step(action)\n",
    "    table_q[action] = table_q[action] + alpha*(reward+gamma*np.max(table_q)-table_q[action])\n",
    "\n",
    "    total_reward +=reward\n",
    "    reward_list.append(total_reward/(episode+1))\n",
    "    \n",
    "    np.set_printoptions(precision=3)\n",
    "    print(table_q)"
   ]
  },
  {
   "cell_type": "markdown",
   "metadata": {},
   "source": [
    "Visualize the data<br>\n",
    "Graphs of average reward over 50 actions"
   ]
  },
  {
   "cell_type": "code",
   "execution_count": 4,
   "metadata": {},
   "outputs": [
    {
     "data": {
      "text/plain": [
       "Text(0,0.5,'Reward')"
      ]
     },
     "execution_count": 4,
     "metadata": {},
     "output_type": "execute_result"
    },
    {
     "data": {
      "image/png": "[encoded data removed]",
      "text/plain": [
       "<Figure size 432x288 with 1 Axes>"
      ]
     },
     "metadata": {
      "needs_background": "light"
     },
     "output_type": "display_data"
    }
   ],
   "source": [
    "plt.plot(reward_list_d, label='double_q')\n",
    "plt.plot(reward_list, label='simgle_q')\n",
    "plt.legend(bbox_to_anchor=(1.05, 1), loc=2, borderaxespad=0.)\n",
    "\n",
    "plt.xlabel('Episode')\n",
    "plt.ylabel('Reward')"
   ]
  },
  {
   "cell_type": "markdown",
   "metadata": {},
   "source": [
    "Total rewards"
   ]
  },
  {
   "cell_type": "code",
   "execution_count": 5,
   "metadata": {},
   "outputs": [
    {
     "name": "stdout",
     "output_type": "stream",
     "text": [
      "Total rewards\n",
      "Double q:  161.238\n",
      "Single q:  138.454\n",
      "Optimal:   253.644\n"
     ]
    }
   ],
   "source": [
    "print(\"Total rewards\")\n",
    "print('{:10} {:.3f}'.format(\"Double q:\", total_reward_d))\n",
    "print('{:10} {:.3f}'.format(\"Single q:\", total_reward))\n",
    "print('{:10} {:.3f}'.format(\"Optimal:\", max_episodes*env.getmax()))"
   ]
  },
  {
   "cell_type": "markdown",
   "metadata": {},
   "source": [
    "Approximated Q-values of each action"
   ]
  },
  {
   "cell_type": "code",
   "execution_count": 6,
   "metadata": {},
   "outputs": [
    {
     "name": "stdout",
     "output_type": "stream",
     "text": [
      "Q-value approximations:\n",
      "Double q_a: [8.42  0.135 0.    0.    0.    0.    0.219 0.    0.317 0.148]\n",
      "Double q_b: [7.835 0.247 0.346 0.    1.155 0.    0.61  0.467 0.    0.   ]\n",
      "Single q:  [13.163  0.866  1.038  1.258  1.417  0.     1.007  1.134  0.577  0.807]\n",
      "True vals: [ 1.593  0.682  1.496  0.192  2.536 -0.339 -0.164 -0.764 -0.291 -0.609 ]\n"
     ]
    }
   ],
   "source": [
    "print(\"Q-value approximations:\")\n",
    "np.set_printoptions(precision=3)\n",
    "print('{:10}'.format(\"Double q_a:\"),end=\" \")\n",
    "print(table_q_a)\n",
    "print('{:10}'.format(\"Double q_b:\"),end=\" \")\n",
    "print(table_q_b)\n",
    "print('{:10}'.format(\"Single q:\"),end=\" \")\n",
    "print(table_q)\n",
    "env.render()"
   ]
  }
 ],
 "metadata": {
  "kernelspec": {
   "display_name": "Python 3",
   "language": "python",
   "name": "python3"
  },
  "language_info": {
   "codemirror_mode": {
    "name": "ipython",
    "version": 3
   },
   "file_extension": ".py",
   "mimetype": "text/x-python",
   "name": "python",
   "nbconvert_exporter": "python",
   "pygments_lexer": "ipython3",
   "version": "3.6.6"
  }
 },
 "nbformat": 4,
 "nbformat_minor": 2
}
