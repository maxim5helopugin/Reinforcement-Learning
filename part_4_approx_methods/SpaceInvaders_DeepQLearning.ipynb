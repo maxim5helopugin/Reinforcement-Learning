{
 "cells": [
  {
   "cell_type": "markdown",
   "metadata": {},
   "source": [
    "# Lunar Lander Deep-single-q and double-q networks"
   ]
  },
  {
   "cell_type": "code",
   "execution_count": 1,
   "metadata": {},
   "outputs": [
    {
     "name": "stderr",
     "output_type": "stream",
     "text": [
      "Using TensorFlow backend.\n"
     ]
    }
   ],
   "source": [
    "import gym\n",
    "import numpy as np\n",
    "import tensorflow as tf\n",
    "import keras\n",
    "from keras.layers import Dense\n",
    "from keras.models import Sequential\n",
    "from keras.optimizers import Adam\n",
    "from keras.utils import to_categorical\n",
    "import atari_py\n",
    "import matplotlib.pyplot as plt\n",
    "\n",
    "max_epochs = 100\n",
    "mem_size = 40000\n",
    "batch_size = 100\n",
    "blank = 20\n",
    "\n",
    "LAYER_1 = 128\n",
    "LAYER_2 = 64\n",
    "ALPHA = 0.002\n",
    "GAMMA = 0.99\n",
    "SAVE = max_epochs\n",
    "LOAD = max_epochs\n",
    "\n",
    "env = gym.make(\"SpaceInvaders-v0\")"
   ]
  },
  {
   "cell_type": "markdown",
   "metadata": {},
   "source": [
    "Memory buffer to store experiences"
   ]
  },
  {
   "cell_type": "code",
   "execution_count": 2,
   "metadata": {},
   "outputs": [],
   "source": [
    "from collections import deque\n",
    "\n",
    "class Memory:\n",
    "    def __init__(self, size, samplesize):\n",
    "        self.samplesize = samplesize\n",
    "        self.memory = deque(maxlen=size)\n",
    "        self.size = size\n",
    "    \n",
    "    def remember(self, experience):\n",
    "        self.memory.append(experience)\n",
    "    \n",
    "    def sample(self):\n",
    "        indecies = np.random.choice(np.arange(self.size), size=self.samplesize, replace = False)\n",
    "        return [self.memory[index] for index in indecies]       "
   ]
  },
  {
   "cell_type": "code",
   "execution_count": 3,
   "metadata": {},
   "outputs": [],
   "source": [
    "class State:\n",
    "    def __init__(self, resolution_x, resolution_y, size):\n",
    "        self.frames = deque([np.zeros((resolution_x,resolution_y), dtype=np.int) for i in range(size)], maxlen=size)\n",
    "    \n",
    "    def crop(self, state):\n",
    "        self.frame = state[27:-14, 20:-20]\n",
    "        self.frame = np.dot(self.frame[...,:3], [0.33, 0.33, 0.33])\n",
    "        return self.frame\n",
    "    \n",
    "    def add(self, state, isnew=False):\n",
    "        frame = self.crop(state)\n",
    "        if isnew:\n",
    "            self.frames.append(frame)\n",
    "            self.frames.append(frame)\n",
    "            self.frames.append(frame)\n",
    "        \n",
    "        self.frames.append(frame)\n",
    "    \n",
    "    def get_state(self):\n",
    "        return np.stack(self.frames, axis=2)"
   ]
  },
  {
   "cell_type": "markdown",
   "metadata": {},
   "source": [
    "# Simple q learning agent"
   ]
  },
  {
   "cell_type": "code",
   "execution_count": 4,
   "metadata": {},
   "outputs": [],
   "source": [
    "class Agent_q:\n",
    "    def __init__(self, state_dim, action_dim, name = 'qnn'):\n",
    "        with tf.variable_scope(name):         \n",
    "\n",
    "            self.state = tf.placeholder(tf.float32, [None, *state_dim], name = 'state')\n",
    "            self.action = tf.placeholder(tf.int32, [None], name = 'action')\n",
    "            \n",
    "            self.conv1 = tf.layers.conv2d(inputs = self.state, filters = 32, kernel_size = [8,8], strides = [4,4], padding = \"VALID\",\n",
    "                                          kernel_initializer=tf.contrib.layers.xavier_initializer_conv2d(), name = \"conv1\")\n",
    "            self.conv1_batchnorm = tf.layers.batch_normalization(self.conv1, training = True, epsilon = 1e-5, name = 'batch_norm1')\n",
    "            self.conv1_out = tf.nn.elu(self.conv1_batchnorm, name=\"conv1_out\")\n",
    "            \n",
    "            self.conv2 = tf.layers.conv2d(inputs = self.conv1_out, filters = 64, kernel_size = [4,4], strides = [2,2], padding = \"VALID\",\n",
    "                                kernel_initializer=tf.contrib.layers.xavier_initializer_conv2d(), name = \"conv2\")\n",
    "            self.conv2_batchnorm = tf.layers.batch_normalization(self.conv2, training = True, epsilon = 1e-5, name = 'batch_norm2')\n",
    "            self.conv2_out = tf.nn.elu(self.conv2_batchnorm, name=\"conv2_out\")\n",
    "            \n",
    "            self.conv3 = tf.layers.conv2d(inputs = self.conv2_out, filters = 128, kernel_size = [4,4], strides = [2,2], padding = \"VALID\",\n",
    "                                kernel_initializer=tf.contrib.layers.xavier_initializer_conv2d(), name = \"conv3\")\n",
    "            self.conv3_batchnorm = tf.layers.batch_normalization(self.conv3, training = True, epsilon = 1e-5, name = 'batch_norm3')\n",
    "            self.conv3_out = tf.nn.elu(self.conv3_batchnorm, name=\"conv3_out\")\n",
    "\n",
    "            self.flatten = tf.layers.flatten(self.conv3_out)\n",
    "            \n",
    "            self.first_layer = tf.contrib.layers.fully_connected(self.flatten, 512)\n",
    "            self.second_layer = tf.contrib.layers.fully_connected(self.first_layer, LAYER_2)\n",
    "            \n",
    "            self.q_vector = tf.contrib.layers.fully_connected(self.second_layer, action_dim, activation_fn = None)\n",
    "            \n",
    "            encoded_action_vector = tf.one_hot(self.action, action_dim)\n",
    "            \n",
    "            self.target_q_value = tf.placeholder(tf.float32, [None], name = 'target_q_value')\n",
    "            q_value = tf.reduce_sum(tf.multiply(self.q_vector, encoded_action_vector), axis = 1)\n",
    "\n",
    "            self.loss = tf.reduce_mean(tf.square(self.target_q_value - q_value))\n",
    "            self.optimizer = tf.train.AdamOptimizer(ALPHA).minimize(self.loss)\n",
    "             \n",
    "    def predict(self, state):\n",
    "        feed_dict = {self.state : np.array([state])} \n",
    "        q_vector = sess.run(self.q_vector, feed_dict = feed_dict)\n",
    "        return np.argmax(q_vector)\n",
    "        \n",
    "    def train(self, experiences):    \n",
    "        state, action, reward, next_state, done = zip(*experiences)\n",
    "        state = np.array(state)\n",
    "        action = np.array(action)\n",
    "        reward = np.array(reward)\n",
    "        next_state = np.array(next_state)\n",
    "        mask = 1.0 - np.array(done)\n",
    "        \n",
    "        \n",
    "        next_q_vector = sess.run(self.q_vector, feed_dict = { self.state : next_state })\n",
    "        target_q_value = reward + GAMMA * mask * np.max(next_q_vector, axis = 1)\n",
    "        sess.run([self.loss, self.optimizer],\n",
    "                 feed_dict = { self.state          : state,\n",
    "                               self.target_q_value : target_q_value,\n",
    "                               self.action         : action })"
   ]
  },
  {
   "cell_type": "markdown",
   "metadata": {},
   "source": [
    "A function to test an agent on the environment"
   ]
  },
  {
   "cell_type": "code",
   "execution_count": 5,
   "metadata": {},
   "outputs": [],
   "source": [
    "def playtest(env, agent):\n",
    "    rewards = 0\n",
    "    stacked_state = State(169, 210, 4)\n",
    "    state = env.reset()\n",
    "    stacked_state.add(state, True)\n",
    "    \n",
    "    done = False\n",
    "    rewards = 0\n",
    "    while not done:\n",
    "        action = agent.predict(stacked_state.get_state())\n",
    "        env.render()\n",
    "        next_state, reward, done, _ = env.step(action)\n",
    "        rewards+=reward\n",
    "        if done:\n",
    "            env.close()\n",
    "            return rewards\n",
    "        else:\n",
    "            state = next_state\n",
    "            stacked_state.add(state)\n",
    "            "
   ]
  },
  {
   "cell_type": "code",
   "execution_count": 6,
   "metadata": {},
   "outputs": [],
   "source": [
    "def test_run(env, agent, update=False):\n",
    "    memory = Memory(mem_size,batch_size)\n",
    "    stacked_state = State(169, 210, 4)\n",
    "    \n",
    "    epsilon = 1\n",
    "    epsilon_decay = 0.9\n",
    "    rewards = 0\n",
    "    print(\"Prepopulating memory:\")\n",
    "    print(\"____________________\")\n",
    "    \n",
    "    state = env.reset()\n",
    "    stacked_state.add(state, True)\n",
    "    \n",
    "    for step in range(mem_size):\n",
    "        if step%(mem_size/blank)==0:\n",
    "            print(\"|\", end='')\n",
    "        action = env.action_space.sample()\n",
    "        \n",
    "        next_state, reward, done, _ = env.step(action)\n",
    "        current_state = stacked_state.get_state()\n",
    "        stacked_state.add(next_state)\n",
    "        next_stacked_state = stacked_state.get_state()\n",
    "        \n",
    "        memory.remember((current_state, action, reward, next_stacked_state, 1-done))\n",
    "        if done:\n",
    "            state = env.reset()\n",
    "            stacked_state.add(state, True)\n",
    "        else:\n",
    "            state = next_state\n",
    "     \n",
    "    av_reward = []     \n",
    "    env.reset()\n",
    "    print(\"\\nTraining:\")\n",
    "    print(\"____________________\")\n",
    "    for epoch in range(1,max_epochs+1):\n",
    "        done = False\n",
    "        state = env.reset()\n",
    "        stacked_state.add(state, True)\n",
    "        \n",
    "        while not done:\n",
    "            if np.random.uniform() < epsilon:\n",
    "                action = env.action_space.sample()\n",
    "            else:\n",
    "                action = agent.predict(stacked_state.get_state())\n",
    "                \n",
    "            next_state, reward, done, _ = env.step(action)\n",
    "            current_state = stacked_state.get_state()\n",
    "            stacked_state.add(next_state)\n",
    "            next_stacked_state = stacked_state.get_state()\n",
    "            \n",
    "            memory.remember((current_state, action, reward, next_stacked_state, 1-done))\n",
    "            agent.train(memory.sample())\n",
    "            if done:\n",
    "                if update:\n",
    "                    agent.soft_update()\n",
    "                if epsilon > 0.1:\n",
    "                    epsilon*=epsilon_decay\n",
    "                if epoch%(max_epochs/blank)==0:\n",
    "                    print(\"|\", end='')\n",
    "                    rewards+=playtest(env, agent)\n",
    "                    av_reward.append(rewards/(epoch/(max_epochs/blank)))\n",
    "                break\n",
    "            else:\n",
    "                state = next_state\n",
    "    return av_reward"
   ]
  },
  {
   "cell_type": "code",
   "execution_count": null,
   "metadata": {},
   "outputs": [
    {
     "name": "stdout",
     "output_type": "stream",
     "text": [
      "Prepopulating memory:\n",
      "____________________\n",
      "||||||||||||||||||||\n",
      "Training:\n",
      "____________________\n"
     ]
    }
   ],
   "source": [
    "tf.reset_default_graph()\n",
    "agent_q = Agent_q([169,120,4], env.action_space.n)\n",
    "\n",
    "with tf.Session() as sess:\n",
    "    sess.run(tf.global_variables_initializer())\n",
    "    rewards_single = test_run(env, agent_q)\n",
    "\n",
    "\n",
    "plt.plot(rewards_single, label = \"single\")\n",
    "plt.legend(bbox_to_anchor=(1.05, 1), loc=2, borderaxespad=0.)\n",
    "\n",
    "plt.xlabel('Episode')\n",
    "plt.ylabel('Average Reward')"
   ]
  },
  {
   "cell_type": "code",
   "execution_count": null,
   "metadata": {},
   "outputs": [],
   "source": []
  },
  {
   "cell_type": "code",
   "execution_count": null,
   "metadata": {},
   "outputs": [],
   "source": []
  }
 ],
 "metadata": {
  "kernelspec": {
   "display_name": "Python 3",
   "language": "python",
   "name": "python3"
  },
  "language_info": {
   "codemirror_mode": {
    "name": "ipython",
    "version": 3
   },
   "file_extension": ".py",
   "mimetype": "text/x-python",
   "name": "python",
   "nbconvert_exporter": "python",
   "pygments_lexer": "ipython3",
   "version": "3.6.6"
  }
 },
 "nbformat": 4,
 "nbformat_minor": 2
}
