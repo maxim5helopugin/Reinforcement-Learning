{
 "cells": [
  {
   "cell_type": "markdown",
   "metadata": {},
   "source": [
    "# Policy Gradient algorithm"
   ]
  },
  {
   "cell_type": "code",
   "execution_count": 1,
   "metadata": {},
   "outputs": [
    {
     "name": "stderr",
     "output_type": "stream",
     "text": [
      "Using TensorFlow backend.\n"
     ]
    }
   ],
   "source": [
    "import gym\n",
    "from keras.layers import Input, Dense\n",
    "import tensorflow as tf\n",
    "import numpy as np\n",
    "import time\n",
    "from collections import deque\n",
    "import matplotlib.pyplot as plt\n",
    "from keras.optimizers import Adam\n",
    "from keras.models import Model\n",
    "\n",
    "batch_size = 5000\n",
    "env = gym.make(\"CartPole-v0\")"
   ]
  },
  {
   "cell_type": "markdown",
   "metadata": {},
   "source": [
    "Define the memory which stores weights, transitions and returns trajectories "
   ]
  },
  {
   "cell_type": "code",
   "execution_count": 2,
   "metadata": {},
   "outputs": [],
   "source": [
    "class Memory():\n",
    "    def __init__(self, batch_size):\n",
    "        self.actions = []\n",
    "        self.states = []\n",
    "        self.cum_rews = []\n",
    "        self.cum_lens = []\n",
    "        self.episode_rews = []\n",
    "        self.weights = []\n",
    "        \n",
    "    def add_to_trajectory(self,trajectory):\n",
    "        action, state, reward = trajectory\n",
    "        self.actions.append(action)\n",
    "        self.states.append(state)\n",
    "        self.episode_rews.append(reward)\n",
    "    \n",
    "    def finish(self):\n",
    "        self.cum_rews.append(np.sum(self.episode_rews))\n",
    "        self.cum_lens.append(len(self.episode_rews))\n",
    "        self.weights += [np.sum(self.episode_rews)] * len(self.episode_rews)\n",
    "        self.episode_rews = []\n",
    "    \n",
    "    def check_limit(self, limit):\n",
    "        if len(self.states) > limit:\n",
    "            return True\n",
    "        return False\n",
    "    \n",
    "    def sample(self):\n",
    "        return (self.actions, self.states, self.weights)\n",
    "    \n",
    "    def reset(self):\n",
    "        self.actions = []\n",
    "        self.states = []\n",
    "        self.cum_rews = []\n",
    "        self.cum_lens = []\n",
    "        self.episode_rews = []\n",
    "        self.weights = []"
   ]
  },
  {
   "cell_type": "markdown",
   "metadata": {},
   "source": [
    "Policy Gradient Agent"
   ]
  },
  {
   "cell_type": "code",
   "execution_count": 3,
   "metadata": {},
   "outputs": [],
   "source": [
    "import keras.backend as K\n",
    "\n",
    "class Agent():\n",
    "    def __init__(self, state_space, action_space):\n",
    "        self.action_dim = action_space\n",
    "        \n",
    "        self.input = Input((state_space,))\n",
    "        self.first_layer = Dense(64, activation='relu')(self.input)\n",
    "        self.second_layer = Dense(32, activation='relu')(self.first_layer)\n",
    "        self.logits = Dense(action_space, activation=None)(self.second_layer)\n",
    "        \n",
    "        self.weights = K.placeholder(shape=(None,))\n",
    "        self.actions = K.placeholder(shape=(None,), dtype=tf.int32)\n",
    "        \n",
    "        action_masks = K.one_hot(self.actions, action_space)\n",
    "        log_probs = K.sum(action_masks * self.log_softmax(self.logits), axis=1)\n",
    "        self.loss = -K.mean(self.weights * log_probs)\n",
    "        \n",
    "        self.train_op = tf.train.AdamOptimizer(learning_rate=0.01).minimize(self.loss)\n",
    "\n",
    "        self.sess = tf.InteractiveSession()\n",
    "        self.sess.run(tf.global_variables_initializer())\n",
    "        \n",
    "    def predict(self, state):\n",
    "        distrib = self.sess.run(self.logits, {self.input: np.array([state])})[0]\n",
    "        distrib = self.softmax(distrib)\n",
    "        action = np.random.choice(self.action_dim, p=distrib, size = 1)\n",
    "        return action[0]\n",
    "        \n",
    "    def train(self, _, sample):\n",
    "        actions, states, weights = sample\n",
    "        self.sess.run([self.loss, self.train_op], feed_dict={self.input: np.array(states),\n",
    "                                                            self.actions: np.array(actions),\n",
    "                                                            self.weights: np.array(weights)})\n",
    " \n",
    "    def softmax(self, x):\n",
    "        e_x = np.exp(x)\n",
    "        return e_x / np.sum(e_x)\n",
    "    \n",
    "    def log_softmax(self,x):\n",
    "        logs = K.logsumexp(x,axis=1)\n",
    "        ret = x - K.stack([logs,logs], axis=1)\n",
    "        return ret"
   ]
  },
  {
   "cell_type": "code",
   "execution_count": 4,
   "metadata": {},
   "outputs": [],
   "source": [
    "agent = Agent(env.observation_space.shape[0], env.action_space.n)"
   ]
  },
  {
   "cell_type": "markdown",
   "metadata": {},
   "source": [
    "Training method"
   ]
  },
  {
   "cell_type": "code",
   "execution_count": 5,
   "metadata": {},
   "outputs": [],
   "source": [
    "def train():\n",
    "    state = env.reset()\n",
    "    memory = Memory(batch_size)\n",
    "\n",
    "    while True:\n",
    "        action = agent.predict(state)\n",
    "        next_state, reward, done, _ = env.step(action)\n",
    "        memory.add_to_trajectory((action, state, reward))\n",
    "    \n",
    "        if done:\n",
    "            memory.finish()\n",
    "            if memory.check_limit(batch_size):\n",
    "                agent.train(memory.states, memory.sample())\n",
    "                env.close()\n",
    "                break\n",
    "            state = env.reset()\n",
    "        \n",
    "        else:\n",
    "            state = next_state"
   ]
  },
  {
   "cell_type": "markdown",
   "metadata": {},
   "source": [
    "Testing method"
   ]
  },
  {
   "cell_type": "code",
   "execution_count": 6,
   "metadata": {},
   "outputs": [],
   "source": [
    "def test():\n",
    "    rewards = 0\n",
    "    state = env.reset()\n",
    "\n",
    "    while True:\n",
    "        #env.render()\n",
    "        action = agent.predict(state)\n",
    "        next_state, reward, done, _ = env.step(action)\n",
    "        rewards +=reward\n",
    "        if done:\n",
    "            env.close()\n",
    "            return rewards\n",
    "        else:\n",
    "            state = next_state"
   ]
  },
  {
   "cell_type": "markdown",
   "metadata": {},
   "source": [
    "Print algorithm progression and rewards"
   ]
  },
  {
   "cell_type": "code",
   "execution_count": 7,
   "metadata": {},
   "outputs": [
    {
     "name": "stdout",
     "output_type": "stream",
     "text": [
      "1 2 3 4 5 6 7 8 9 10 11 12 13 14 15 16 17 18 19 20 21 22 23 24 25 26 27 28 29 30 31 32 33 34 35 36 37 38 39 40 41 42 43 44 45 46 47 48 49 50 "
     ]
    },
    {
     "data": {
      "text/plain": [
       "[<matplotlib.lines.Line2D at 0x20a316922b0>]"
      ]
     },
     "execution_count": 7,
     "metadata": {},
     "output_type": "execute_result"
    },
    {
     "data": {
      "image/png": "[encoded data removed]",
      "text/plain": [
       "<Figure size 432x288 with 1 Axes>"
      ]
     },
     "metadata": {
      "needs_background": "light"
     },
     "output_type": "display_data"
    }
   ],
   "source": [
    "reward = 0\n",
    "rewards = []\n",
    "\n",
    "for i in range(1,51):\n",
    "    train()\n",
    "    print(i, end=' ')\n",
    "    reward += test()\n",
    "    rewards.append(reward/i)\n",
    "    \n",
    "plt.plot(rewards, label = \"rewards\")"
   ]
  },
  {
   "cell_type": "code",
   "execution_count": null,
   "metadata": {},
   "outputs": [],
   "source": []
  },
  {
   "cell_type": "code",
   "execution_count": null,
   "metadata": {},
   "outputs": [],
   "source": []
  }
 ],
 "metadata": {
  "kernelspec": {
   "display_name": "Python 3",
   "language": "python",
   "name": "python3"
  },
  "language_info": {
   "codemirror_mode": {
    "name": "ipython",
    "version": 3
   },
   "file_extension": ".py",
   "mimetype": "text/x-python",
   "name": "python",
   "nbconvert_exporter": "python",
   "pygments_lexer": "ipython3",
   "version": "3.6.6"
  }
 },
 "nbformat": 4,
 "nbformat_minor": 2
}
