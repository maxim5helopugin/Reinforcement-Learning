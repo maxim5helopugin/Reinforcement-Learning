{
 "cells": [
  {
   "cell_type": "markdown",
   "metadata": {},
   "source": [
    "# Comparison between exploratory techniques on the example of 10-armed bandit"
   ]
  },
  {
   "cell_type": "markdown",
   "metadata": {},
   "source": [
    "Import environment and necessary libraries.\n",
    "Initialize rewards, total rewards, epsilon and episodes"
   ]
  },
  {
   "cell_type": "code",
   "execution_count": 1,
   "metadata": {},
   "outputs": [],
   "source": [
    "import gym\n",
    "import gym_n_bandit\n",
    "import numpy as np\n",
    "from math import e\n",
    "\n",
    "%matplotlib inline\n",
    "import matplotlib.pyplot as plt\n",
    "\n",
    "random_reward_list = []\n",
    "epsilon_reward_list = []\n",
    "softmax_reward_list = []\n",
    "ucb_reward_list = []\n",
    "thompson_reward_list = []\n",
    "\n",
    "random_action_list = np.zeros(10)\n",
    "epsilon_action_list = np.zeros(10)\n",
    "softmax_action_list = np.zeros(10)\n",
    "ucb_action_list = np.zeros(10)\n",
    "thompson_action_list = np.zeros(10)\n",
    "\n",
    "random_total_reward = 0\n",
    "epsilon_total_reward = 0\n",
    "softmax_total_reward = 0\n",
    "ucb_total_reward = 0\n",
    "thompson_total_reward = 0\n",
    "\n",
    "epsilon = 0.1\n",
    "max_episodes = 1000\n",
    "smoothening = 50"
   ]
  },
  {
   "cell_type": "markdown",
   "metadata": {},
   "source": [
    "Random agent\n",
    "$$a = random(0,b)$$"
   ]
  },
  {
   "cell_type": "code",
   "execution_count": 2,
   "metadata": {
    "scrolled": true
   },
   "outputs": [],
   "source": [
    "env = gym.make(\"NArmedBandit-v0\")\n",
    "\n",
    "table_q_r = np.zeros(env.action_space.n)\n",
    "table_n = np.ones(env.action_space.n)\n",
    "\n",
    "for episode in np.arange(max_episodes):\n",
    "    env.reset()\n",
    "    action = env.action_space.sample()\n",
    "    _, reward, _, _ = env.step(action)\n",
    "    table_q_r[action] = table_q_r[action] + (reward-table_q_r[action])/table_n[action]\n",
    "    table_n[action]+=1\n",
    "    \n",
    "    random_action_list[action]+=1;\n",
    "    random_reward_list.append((episode, reward))\n",
    "    random_total_reward+=reward"
   ]
  },
  {
   "cell_type": "markdown",
   "metadata": {},
   "source": [
    "Epsilon greedy exploration:<br>\n",
    "\n",
    "with probability epsilon :\n",
    "$$a = random(0, b)$$\n",
    "with probability 1-epsilon:\n",
    "$$a = argmax_aQ(a)$$"
   ]
  },
  {
   "cell_type": "code",
   "execution_count": 3,
   "metadata": {},
   "outputs": [],
   "source": [
    "table_q_e = np.zeros(env.action_space.n)\n",
    "table_n = np.ones(env.action_space.n)\n",
    "\n",
    "for episode in np.arange(max_episodes):\n",
    "    env.reset()\n",
    "    if np.random.random() < epsilon:\n",
    "        action = env.action_space.sample()\n",
    "    else:\n",
    "        action = np.argmax(table_q_e)\n",
    "    _, reward, _, _ = env.step(action)\n",
    "    table_q_e[action] = table_q_e[action] + (reward-table_q_e[action])/table_n[action]\n",
    "    table_n[action]+=1\n",
    "    \n",
    "    epsilon_action_list[action]+=1;\n",
    "    epsilon_reward_list.append((episode, reward))\n",
    "    epsilon_total_reward +=reward"
   ]
  },
  {
   "cell_type": "markdown",
   "metadata": {},
   "source": [
    "Softmax agent<br>\n",
    "Choose action randomly from a probability distribution:\n",
    "$$ P(a) = \\dfrac{e^{Q(a)}}{\\sum_{a^\\prime=0}^{a^\\prime=b}e^{Q(a^\\prime)}}$$\n"
   ]
  },
  {
   "cell_type": "code",
   "execution_count": 4,
   "metadata": {},
   "outputs": [],
   "source": [
    "table_q_s = np.zeros(env.action_space.n)\n",
    "table_n = np.ones(env.action_space.n)\n",
    "\n",
    "for episode in np.arange(max_episodes):\n",
    "    env.reset()\n",
    "    probabilities = np.exp(table_q_s)/(np.sum(np.exp(table_q_s),axis=0))\n",
    "    action = np.random.choice(env.action_space.n, p=probabilities)\n",
    "    _, reward, _, _ = env.step(action)\n",
    "    table_q_s[action] = table_q_s[action] + (reward-table_q_s[action])/table_n[action]\n",
    "    table_n[action]+=1\n",
    "    \n",
    "    softmax_action_list[action]+=1;\n",
    "    softmax_reward_list.append((episode, reward))\n",
    "    softmax_total_reward +=reward"
   ]
  },
  {
   "cell_type": "markdown",
   "metadata": {},
   "source": [
    "UCB agent<br>\n",
    "Each time an action is chosen by:\n",
    "$$a = argmax_a(Q(a)+2\\sqrt{\\dfrac{\\ln t}{N(a)}})$$"
   ]
  },
  {
   "cell_type": "code",
   "execution_count": 5,
   "metadata": {},
   "outputs": [],
   "source": [
    "table_q_u = np.zeros(env.action_space.n)\n",
    "table_n = np.ones(env.action_space.n)\n",
    "table_ucb = np.zeros(env.action_space.n)\n",
    "\n",
    "for episode in range(1,max_episodes):\n",
    "    env.reset()\n",
    "    table_ucb = table_q_u + 2*(np.sqrt((np.log(episode))/table_n))\n",
    "    action = np.argmax(table_ucb)\n",
    "    _, reward, _, _ = env.step(action)\n",
    "    table_q_u[action] = table_q_u[action] + (reward-table_q_u[action])/table_n[action]\n",
    "    table_n[action]+=1\n",
    "    \n",
    "    ucb_action_list[action]+=1;\n",
    "    ucb_reward_list.append((episode, reward))\n",
    "    ucb_total_reward +=reward"
   ]
  },
  {
   "cell_type": "markdown",
   "metadata": {},
   "source": [
    "Thompson agent<br>\n",
    "Each time an action is chosen by:\n",
    "$$a = argmax_aBeta(\\alpha_a,\\beta_a)$$\n",
    "with:<br>\n",
    "$$\\alpha_a=\\alpha_a+1\\quad\\textrm{if}\\quad r>0$$\n",
    "$$\\beta_a=\\beta_a+1\\quad\\textrm{if}\\quad r<=0$$"
   ]
  },
  {
   "cell_type": "code",
   "execution_count": 6,
   "metadata": {},
   "outputs": [],
   "source": [
    "table_q_t = np.zeros(env.action_space.n)\n",
    "table_n = np.ones(env.action_space.n)\n",
    "alpha_a = np.ones(env.action_space.n)\n",
    "beta_a = np.ones(env.action_space.n)\n",
    "\n",
    "for episode in np.arange(max_episodes):\n",
    "    env.reset()\n",
    "    theta = np.random.beta(alpha_a+1,beta_a+1)\n",
    "    action = np.argmax(theta)\n",
    "    _, reward, _, _ = env.step(action)\n",
    "    \n",
    "    table_q_t[action] = table_q_t[action] + (reward-table_q_t[action])/table_n[action]\n",
    "    table_n[action]+=1\n",
    "    \n",
    "    if reward>0:\n",
    "        alpha_a[action]+=1\n",
    "    else:\n",
    "        beta_a[action]+=1\n",
    "    \n",
    "    thompson_action_list[action]+=1;\n",
    "    thompson_reward_list.append((episode, reward))\n",
    "    thompson_total_reward +=reward   "
   ]
  },
  {
   "cell_type": "markdown",
   "metadata": {},
   "source": [
    "Visualize the data<br>\n",
    "Graphs of average reward over 50 actions"
   ]
  },
  {
   "cell_type": "code",
   "execution_count": 7,
   "metadata": {},
   "outputs": [
    {
     "data": {
      "text/plain": [
       "Text(0,0.5,'Reward')"
      ]
     },
     "execution_count": 7,
     "metadata": {},
     "output_type": "execute_result"
    },
    {
     "data": {
      "image/png": "[encoded data removed]",
      "text/plain": [
       "<Figure size 432x288 with 1 Axes>"
      ]
     },
     "metadata": {
      "needs_background": "light"
     },
     "output_type": "display_data"
    }
   ],
   "source": [
    "def running_mean(x, N):\n",
    "    cumsum = np.cumsum(np.insert(x, 0, 0)) \n",
    "    return (cumsum[N:] - cumsum[:-N]) / N\n",
    "\n",
    "eps, rews = np.array(random_reward_list).T\n",
    "random_smoothed_rews = running_mean(rews, smoothening)\n",
    "\n",
    "eps, rews = np.array(epsilon_reward_list).T\n",
    "epsilon_smoothed_rews = running_mean(rews, smoothening)\n",
    "\n",
    "eps, rews = np.array(softmax_reward_list).T\n",
    "softmax_smoothed_rews = running_mean(rews, smoothening)\n",
    "\n",
    "eps, rews = np.array(ucb_reward_list).T\n",
    "ucb_smoothed_rews = running_mean(rews, smoothening)\n",
    "\n",
    "eps, rews = np.array(thompson_reward_list).T\n",
    "thompson_smoothed_rews = running_mean(rews, smoothening)\n",
    "\n",
    "plt.plot(eps[-len(random_smoothed_rews):], random_smoothed_rews, label='random')\n",
    "plt.plot(eps[-len(epsilon_smoothed_rews):], epsilon_smoothed_rews, label='epsilon')\n",
    "plt.plot(eps[-len(softmax_smoothed_rews):], softmax_smoothed_rews, label='softmax')\n",
    "plt.plot(eps[-len(ucb_smoothed_rews):], ucb_smoothed_rews, label='ucb')\n",
    "plt.plot(eps[-len(thompson_smoothed_rews):], thompson_smoothed_rews, label='thompson')\n",
    "plt.legend(bbox_to_anchor=(1.05, 1), loc=2, borderaxespad=0.)\n",
    "\n",
    "plt.xlabel('Episode')\n",
    "plt.ylabel('Reward')"
   ]
  },
  {
   "cell_type": "markdown",
   "metadata": {},
   "source": [
    "Total rewards"
   ]
  },
  {
   "cell_type": "code",
   "execution_count": 8,
   "metadata": {},
   "outputs": [
    {
     "name": "stdout",
     "output_type": "stream",
     "text": [
      "Total rewards\n",
      "Random:    731.869\n",
      "Epsilon:   1830.238\n",
      "Softmax:   1474.079\n",
      "UCB:       2324.706\n",
      "Thompson:  2340.988\n",
      "Optimal:   2419.742\n"
     ]
    }
   ],
   "source": [
    "print(\"Total rewards\")\n",
    "print('{:10} {:.3f}'.format(\"Random:\", random_total_reward))\n",
    "print('{:10} {:.3f}'.format(\"Epsilon:\", epsilon_total_reward))\n",
    "print('{:10} {:.3f}'.format(\"Softmax:\", softmax_total_reward))\n",
    "print('{:10} {:.3f}'.format(\"UCB:\", ucb_total_reward))\n",
    "print('{:10} {:.3f}'.format(\"Thompson:\", thompson_total_reward))\n",
    "print('{:10} {:.3f}'.format(\"Optimal:\", max_episodes*env.getmax()))"
   ]
  },
  {
   "cell_type": "markdown",
   "metadata": {},
   "source": [
    "Approximated Q-values of each action"
   ]
  },
  {
   "cell_type": "code",
   "execution_count": 9,
   "metadata": {},
   "outputs": [
    {
     "name": "stdout",
     "output_type": "stream",
     "text": [
      "Q-value approximations:\n",
      "Random:    [ 0.607  0.485  0.299  0.07  -0.692  1.364  0.511  2.357  1.501  0.975]\n",
      "Epsilon:   [ 0.653  0.27   0.054  0.755 -0.902  1.271  0.072  2.456  1.218  0.776]\n",
      "Softmax:   [ 0.573  0.575  0.468  0.037 -0.398  1.136  0.584  2.406  1.609  0.93 ]\n",
      "UCB:       [-0.215  0.14  -0.04   0.641 -0.272  0.692  0.625  2.44   1.705  0.187]\n",
      "Thompson:  [-0.111  0.774 -0.651 -0.56   0.916  0.     0.546  2.426  1.815  0.949]\n",
      "True vals: [ 0.655  0.444  0.379 -0.054 -0.746  1.274  0.560  2.420  1.617  0.890 ]\n"
     ]
    }
   ],
   "source": [
    "print(\"Q-value approximations:\")\n",
    "np.set_printoptions(precision=3)\n",
    "print('{:10}'.format(\"Random:\"),end=\" \")\n",
    "print(table_q_r)\n",
    "print('{:10}'.format(\"Epsilon:\"),end=\" \")\n",
    "print(table_q_e)\n",
    "print('{:10}'.format(\"Softmax:\"),end=\" \")\n",
    "print(table_q_s)\n",
    "print('{:10}'.format(\"UCB:\"),end=\" \")\n",
    "print(table_q_u)\n",
    "print('{:10}'.format(\"Thompson:\"),end=\" \")\n",
    "print(table_q_t)\n",
    "env.render()"
   ]
  },
  {
   "cell_type": "markdown",
   "metadata": {},
   "source": [
    "Amount of action chosen"
   ]
  },
  {
   "cell_type": "code",
   "execution_count": 10,
   "metadata": {},
   "outputs": [
    {
     "name": "stdout",
     "output_type": "stream",
     "text": [
      "Actions chosen:\n",
      "Random:    [ 99.  96.  97. 122.  99. 105.  94.  97.  95.  96.]\n",
      "Epsilon:   [220.   8.   8.   8.  10.  87.   9. 636.   6.   8.]\n",
      "Softmax:   [ 38.  52.  51.  40.  22. 101.  61. 377. 160.  98.]\n",
      "UCB:       [  3.   5.   4.   8.   3.   7.   8. 923.  34.   4.]\n",
      "Thompson:  [  1.   7.   1.   1.   1.   0.   6. 910.  64.   9.]\n"
     ]
    }
   ],
   "source": [
    "print(\"Actions chosen:\")\n",
    "print('{:10}'.format(\"Random:\"),end=\" \")\n",
    "print(random_action_list)\n",
    "print('{:10}'.format(\"Epsilon:\"),end=\" \")\n",
    "print(epsilon_action_list)\n",
    "print('{:10}'.format(\"Softmax:\"),end=\" \")\n",
    "print(softmax_action_list)\n",
    "print('{:10}'.format(\"UCB:\"),end=\" \")\n",
    "print(ucb_action_list)\n",
    "print('{:10}'.format(\"Thompson:\"),end=\" \")\n",
    "print(thompson_action_list)"
   ]
  }
 ],
 "metadata": {
  "kernelspec": {
   "display_name": "Python 3",
   "language": "python",
   "name": "python3"
  },
  "language_info": {
   "codemirror_mode": {
    "name": "ipython",
    "version": 3
   },
   "file_extension": ".py",
   "mimetype": "text/x-python",
   "name": "python",
   "nbconvert_exporter": "python",
   "pygments_lexer": "ipython3",
   "version": "3.6.6"
  }
 },
 "nbformat": 4,
 "nbformat_minor": 2
}
